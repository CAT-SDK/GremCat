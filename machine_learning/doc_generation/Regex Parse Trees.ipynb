{
 "cells": [
  {
   "cell_type": "markdown",
   "metadata": {},
   "source": [
    "## Regex #1: `{(\\w+)}`"
   ]
  },
  {
   "cell_type": "code",
   "execution_count": 2,
   "metadata": {},
   "outputs": [],
   "source": [
    "from anytree import Node, RenderTree"
   ]
  },
  {
   "cell_type": "code",
   "execution_count": 13,
   "metadata": {},
   "outputs": [
    {
     "name": "stdout",
     "output_type": "stream",
     "text": [
      "Regex: {(\\w+)}\n",
      "\n",
      "Input String: {foo} {bar} {f00} {b4r}\n",
      "Matches: [foo, bar, f00, b4r]\n",
      "--------------------------------------------------------------------------------\n",
      "Parse Tree\t\tNode Type\t\t\tEnglish Phrase\n",
      "--------------------------------------------------------------------------------\n",
      "{(\\w+)}\t\t\t[REGEX EXPRESSION]\t\t\"words enclosed by curly braces\"\n",
      "├── {\t\t\t[LITERAL CHARACTER]\t\t\"opening curly brace\"\n",
      "└── (\\w+)}\t\t[CONCATENATION EXPRESSION]\t\"a word followed by a closing curly brace\"\n",
      "    ├── (\\w+)\t\t[CAPTURE GROUP]\t\t\t\"a word\"\n",
      "    │   └── \\w+\t\t[ALTERNATION EXPRESSION]\t\"a word\"\n",
      "    │       ├── \\w\t[CHARACTER CLASS]\t\t\"alphanumeric or underscore\"\n",
      "    │       └── +\t[QUANTIFIER]\t\t\t\"1 or more\"\n",
      "    └── }\t\t[LITERAL CHARACTER]\t\t\"closing curly brace\"\n",
      "\n"
     ]
    }
   ],
   "source": [
    "pattern = '{(\\w+)}'\n",
    "print(f'Regex: {pattern}\\n')\n",
    "print('Input String: {foo} {bar} {f00} {b4r}')\n",
    "print('Matches: [foo, bar, f00, b4r]')\n",
    "\n",
    "print('-' * 80)\n",
    "print('Parse Tree\\t\\tNode Type\\t\\t\\tEnglish Phrase')\n",
    "print('-' * 80)\n",
    "\n",
    "root = Node(f'{pattern}\\t\\t\\t[REGEX EXPRESSION]\\t\\t\"words enclosed by curly braces\"')\n",
    "n1 = Node('{\\t\\t\\t[LITERAL CHARACTER]\\t\\t\"opening curly brace\"', root)\n",
    "n2 = Node('(\\w+)}\\t\\t[CONCATENATION EXPRESSION]\\t\"a word followed by a closing curly brace\"', root)\n",
    "n3 = Node('(\\w+)\\t\\t[CAPTURE GROUP]\\t\\t\\t\"a word\"', n2)\n",
    "n4 = Node('}\\t\\t[LITERAL CHARACTER]\\t\\t\"closing curly brace\"', n2)\n",
    "n6 = Node('\\w+\\t\\t[ALTERNATION EXPRESSION]\\t\"a word\"', n3)\n",
    "n8 = Node('\\\\w\\t[CHARACTER CLASS]\\t\\t\"alphanumeric or underscore\"', n6)\n",
    "n9 = Node('+\\t[QUANTIFIER]\\t\\t\\t\"1 or more\"', n6)\n",
    "\n",
    "for pre, fill, node in RenderTree(root):\n",
    "    print(\"%s%s\" % (pre, node.name))\n",
    "print()"
   ]
  },
  {
   "cell_type": "code",
   "execution_count": 98,
   "metadata": {},
   "outputs": [
    {
     "name": "stdout",
     "output_type": "stream",
     "text": [
      "Regex: .*\\.(a|so|dylib)$\n",
      "\n",
      "------------------------------------------------------------------------------------------\n",
      "Parse Tree\t\t\t\tNode Type\t\t\tEnglish Phrase\n",
      "------------------------------------------------------------------------------------------\n",
      ".*\\.(a|so|dylib)$\t\t\t[REGEX EXPRESSION]\t\t\"lines ending in \".a\" \".so\" or \".dylib\"\"\n",
      "├── .*\t\t\t\t\t[ALTERNATION EXPRESSION]\t\"any amount of characters\"\n",
      "│   ├── .\t\t\t\t[CHARACTER CLASS]\t\t\"any character\"\n",
      "│   └── *\t\t\t\t[QUANTIFIER]\t\t\t\"0 or more\"\n",
      "└── \\.(a|so|dylib)$\t\t\t[CONCATENATION EXPRESSION]\t\"lines ending in \".a\" \".so\" or \".dylib\"\"\n",
      "    ├── \\.\t\t\t\t[LITERAL CHARACTER]\t\t\"period point\"\n",
      "    └── (a|so|dylib)$\t\t\t[CONCATENATION EXPRESSION]\t\"lines ending in \"a\" \"so\" or \"dylib\"\"\n",
      "        ├── $\t\t\t\t[ANCHOR]\t\t\t\"end of the line\"\n",
      "        └── (a|so|dylib)\t\t[CAPTURE GROUP]\t\t\t\"\"a\" \"so\" or \"dylib\"\"\n",
      "            ├── a\t\t\t[LITERAL CHARACTER]\t\t\"letter a\"\n",
      "            └── so|dylib\t\t[ALTERNATION EXPRESSION]\t\"\"so\" or \"dylib\"\"\n",
      "                ├── so\t\t\t[STRING]\t\t\t\"\"so\"\"\n",
      "                └── dylib\t\t[STRING]\t\t\t\"\"dylib\"\"\n"
     ]
    }
   ],
   "source": [
    "pattern = '.*\\.(a|so|dylib)$'\n",
    "print(f'Regex: {pattern}\\n')\n",
    "\n",
    "print('-' * 90)\n",
    "print('Parse Tree\\t\\t\\t\\tNode Type\\t\\t\\tEnglish Phrase')\n",
    "print('-' * 90)\n",
    "\n",
    "root = Node(f'{pattern}\\t\\t\\t[REGEX EXPRESSION]\\t\\t\"lines ending in \".a\" \".so\" or \".dylib\"\"')\n",
    "n1 = Node('.*\\t\\t\\t\\t\\t[ALTERNATION EXPRESSION]\\t\"any amount of characters\"', root)\n",
    "n2 = Node('\\.(a|so|dylib)$\\t\\t\\t[CONCATENATION EXPRESSION]\\t\"lines ending in \".a\" \".so\" or \".dylib\"\"', root)\n",
    "n3 = Node('\\\\.\\t\\t\\t\\t[LITERAL CHARACTER]\\t\\t\"period point\"', n2)\n",
    "n4 = Node('(a|so|dylib)$\\t\\t\\t[CONCATENATION EXPRESSION]\\t\"lines ending in \"a\" \"so\" or \"dylib\"\"', n2)\n",
    "n5 = Node('$\\t\\t\\t\\t[ANCHOR]\\t\\t\\t\"end of the line\"', n4)\n",
    "n6 = Node('(a|so|dylib)\\t\\t[CAPTURE GROUP]\\t\\t\\t\"\"a\" \"so\" or \"dylib\"\"', n4)\n",
    "n7 = Node('a\\t\\t\\t[LITERAL CHARACTER]\\t\\t\"letter a\"', n6)\n",
    "n8 = Node('so|dylib\\t\\t[ALTERNATION EXPRESSION]\\t\"\"so\" or \"dylib\"\"', n6)\n",
    "n9 = Node('so\\t\\t\\t[STRING]\\t\\t\\t\"\"so\"\"', n8)\n",
    "n10 = Node('dylib\\t\\t[STRING]\\t\\t\\t\"\"dylib\"\"', n8)\n",
    "n11 = Node('.\\t\\t\\t\\t[CHARACTER CLASS]\\t\\t\"any character\"', n1)\n",
    "n12 = Node('*\\t\\t\\t\\t[QUANTIFIER]\\t\\t\\t\"0 or more\"', n1)\n",
    "\n",
    "for pre, fill, node in RenderTree(root):\n",
    "    print(\"%s%s\" % (pre, node.name))"
   ]
  },
  {
   "cell_type": "code",
   "execution_count": 115,
   "metadata": {},
   "outputs": [
    {
     "name": "stdout",
     "output_type": "stream",
     "text": [
      "Regex: ^author (.*)\n",
      "\n",
      "------------------------------------------------------------------------------------------\n",
      "Parse Tree\t\tNode Type\t\t\tEnglish Phrase\n",
      "------------------------------------------------------------------------------------------\n",
      "^author (.*)\t\t[REGEX EXPRESSION]\t\t\"lines starting with \"author \"\n",
      "├── ^\t\t\t[ANCHOR]\t\t\t\"lines starting with\"\n",
      "└── author (.*)\t\t[CONCATENATION EXPRESSION]\t\"\"author \" followed by a word\"\n",
      "    ├── author \t\t[STRING]\t\t\t\"\"author \"\"\n",
      "    └── (.*)\t\t[CAPTURE GROUP]\t\t\t\"any amount of characters\"\n",
      "        ├── .\t\t[CHARACTER CLASS]\t\t\"any character\"\n",
      "        └── *\t\t[QUANTIFIER]\t\t\t\"0 or more\"\n"
     ]
    }
   ],
   "source": [
    "pattern = '^author (.*)'\n",
    "print(f'Regex: {pattern}\\n')\n",
    "\n",
    "print('-' * 90)\n",
    "print('Parse Tree\\t\\tNode Type\\t\\t\\tEnglish Phrase')\n",
    "print('-' * 90)\n",
    "\n",
    "root = Node(f'{pattern}\\t\\t[REGEX EXPRESSION]\\t\\t\"lines starting with \"author \"')\n",
    "n1 = Node('^\\t\\t\\t[ANCHOR]\\t\\t\\t\"lines starting with\"', root)\n",
    "n2 = Node('author (.*)\\t\\t[CONCATENATION EXPRESSION]\\t\"\"author \" followed by a word\"', root)\n",
    "n3 = Node('author \\t\\t[STRING]\\t\\t\\t\"\"author \"\"', n2)\n",
    "n4 = Node('(.*)\\t\\t[CAPTURE GROUP]\\t\\t\\t\"any amount of characters\"', n2)\n",
    "n5 = Node('.\\t\\t[CHARACTER CLASS]\\t\\t\"any character\"', n4)\n",
    "n6 = Node('*\\t\\t[QUANTIFIER]\\t\\t\\t\"0 or more\"', n4)\n",
    "\n",
    "for pre, fill, node in RenderTree(root):\n",
    "    print(\"%s%s\" % (pre, node.name))"
   ]
  }
 ],
 "metadata": {
  "kernelspec": {
   "display_name": "Python 3",
   "language": "python",
   "name": "python3"
  },
  "language_info": {
   "codemirror_mode": {
    "name": "ipython",
    "version": 3
   },
   "file_extension": ".py",
   "mimetype": "text/x-python",
   "name": "python",
   "nbconvert_exporter": "python",
   "pygments_lexer": "ipython3",
   "version": "3.7.4"
  }
 },
 "nbformat": 4,
 "nbformat_minor": 2
}
