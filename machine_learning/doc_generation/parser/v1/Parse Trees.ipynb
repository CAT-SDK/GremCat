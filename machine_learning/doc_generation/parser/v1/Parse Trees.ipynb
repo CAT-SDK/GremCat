{
 "cells": [
  {
   "cell_type": "code",
   "execution_count": 1,
   "metadata": {},
   "outputs": [],
   "source": [
    "from traversal import parse_ast, translate_ast"
   ]
  },
  {
   "cell_type": "markdown",
   "metadata": {},
   "source": [
    "## Parser"
   ]
  },
  {
   "cell_type": "code",
   "execution_count": 2,
   "metadata": {},
   "outputs": [],
   "source": [
    "from parser import parser, log"
   ]
  },
  {
   "cell_type": "code",
   "execution_count": 3,
   "metadata": {},
   "outputs": [
    {
     "data": {
      "text/plain": [
       "Expression([Closure([Expression([Group([Expression([Word([], \\w+), None], None)], capture), None], None)], curly brace), None], None)"
      ]
     },
     "execution_count": 3,
     "metadata": {},
     "output_type": "execute_result"
    }
   ],
   "source": [
    "pattern = '{(\\w+)}'\n",
    "parser.parse(pattern, debug=log)"
   ]
  },
  {
   "cell_type": "code",
   "execution_count": 4,
   "metadata": {},
   "outputs": [
    {
     "data": {
      "text/plain": [
       "Expression([String([], .*), Expression([String([None], Punctuation([], .)), Expression([Group([Expression([String([None], Letter([], a)), Alternation([None, Expression([String([String([None], Letter([], o))], Letter([], s)), Alternation([None, Expression([String([String([String([String([String([None], Letter([], b))], Letter([], i))], Letter([], l))], Letter([], y))], Letter([], d)), None], None)], or)], None)], or)], None)], capture), Expression([Anchor([], $), None], None)], None)], None)], None)"
      ]
     },
     "execution_count": 4,
     "metadata": {},
     "output_type": "execute_result"
    }
   ],
   "source": [
    "pattern = '.*\\.(a|so|dylib)$'\n",
    "parser.parse(pattern, debug=log)"
   ]
  },
  {
   "cell_type": "code",
   "execution_count": 5,
   "metadata": {},
   "outputs": [
    {
     "data": {
      "text/plain": [
       "Expression([Anchor([], ^), Expression([String([String([String([String([String([String([String([None], Whitespace([],  ))], Letter([], r))], Letter([], o))], Letter([], h))], Letter([], t))], Letter([], u))], Letter([], a)), Expression([Group([Expression([String([], .*), None], None)], capture), None], None)], None)], None)"
      ]
     },
     "execution_count": 5,
     "metadata": {},
     "output_type": "execute_result"
    }
   ],
   "source": [
    "pattern = '^author (.*)'\n",
    "parser.parse(pattern, debug=log)"
   ]
  },
  {
   "cell_type": "markdown",
   "metadata": {},
   "source": [
    "## Good example"
   ]
  },
  {
   "cell_type": "code",
   "execution_count": 6,
   "metadata": {},
   "outputs": [
    {
     "data": {
      "text/plain": [
       "['word enclosed by curly brace']"
      ]
     },
     "execution_count": 6,
     "metadata": {},
     "output_type": "execute_result"
    }
   ],
   "source": [
    "pattern = '{(\\w+)}'\n",
    "paths = parse_ast(pattern)\n",
    "translate_ast(paths)"
   ]
  },
  {
   "cell_type": "markdown",
   "metadata": {},
   "source": [
    "## Okay examples"
   ]
  },
  {
   "cell_type": "code",
   "execution_count": 7,
   "metadata": {},
   "outputs": [
    {
     "data": {
      "text/plain": [
       "['anything punctuation \".\" letter \"a\" or string \"so\" or string \"dylib\" end of line']"
      ]
     },
     "execution_count": 7,
     "metadata": {},
     "output_type": "execute_result"
    }
   ],
   "source": [
    "pattern = '.*\\.(a|so|dylib)$'\n",
    "paths = parse_ast(pattern)\n",
    "translate_ast(paths)"
   ]
  },
  {
   "cell_type": "code",
   "execution_count": 8,
   "metadata": {},
   "outputs": [
    {
     "data": {
      "text/plain": [
       "['start of line string \"author \" anything']"
      ]
     },
     "execution_count": 8,
     "metadata": {},
     "output_type": "execute_result"
    }
   ],
   "source": [
    "pattern = '^author (.*)'\n",
    "paths = parse_ast(pattern)\n",
    "translate_ast(paths)"
   ]
  },
  {
   "cell_type": "markdown",
   "metadata": {},
   "source": [
    "## Still needs work..."
   ]
  },
  {
   "cell_type": "code",
   "execution_count": 9,
   "metadata": {},
   "outputs": [
    {
     "name": "stdout",
     "output_type": "stream",
     "text": [
      "Syntax error at token MINUS_SIGN\n",
      "Syntax error at token COLON\n",
      "Syntax error at token \r\n",
      "Syntax error at token \n",
      "\n"
     ]
    },
    {
     "data": {
      "text/plain": [
       "['string \"ContentType\" start of line']"
      ]
     },
     "execution_count": 9,
     "metadata": {},
     "output_type": "execute_result"
    }
   ],
   "source": [
    "pattern = 'Content-Type:[^\\r\\n]+'\n",
    "paths = parse_ast(pattern)\n",
    "translate_ast(paths)"
   ]
  },
  {
   "cell_type": "code",
   "execution_count": 10,
   "metadata": {},
   "outputs": [
    {
     "data": {
      "text/plain": [
       "['whitespace \" \" digit \"3\" whitespace \" \" digit \"3\" digit \"4\" enclosed by curly brace EXPR EXPR']"
      ]
     },
     "execution_count": 10,
     "metadata": {},
     "output_type": "execute_result"
    }
   ],
   "source": [
    "pattern = '([0-9]{3} [0-9]{3} [0-9]{4})'\n",
    "paths = parse_ast(pattern)\n",
    "translate_ast(paths)"
   ]
  }
 ],
 "metadata": {
  "kernelspec": {
   "display_name": "Python 3",
   "language": "python",
   "name": "python3"
  },
  "language_info": {
   "codemirror_mode": {
    "name": "ipython",
    "version": 3
   },
   "file_extension": ".py",
   "mimetype": "text/x-python",
   "name": "python",
   "nbconvert_exporter": "python",
   "pygments_lexer": "ipython3",
   "version": "3.7.4"
  }
 },
 "nbformat": 4,
 "nbformat_minor": 2
}
