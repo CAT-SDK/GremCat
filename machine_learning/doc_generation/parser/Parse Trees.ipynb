{
 "cells": [
  {
   "cell_type": "code",
   "execution_count": 1,
   "metadata": {},
   "outputs": [],
   "source": [
    "from traversal import viewtree"
   ]
  },
  {
   "cell_type": "code",
   "execution_count": 2,
   "metadata": {},
   "outputs": [],
   "source": [
    "pattern = '{(\\w+)}'"
   ]
  },
  {
   "cell_type": "code",
   "execution_count": 3,
   "metadata": {},
   "outputs": [],
   "source": [
    "from parser import parser"
   ]
  },
  {
   "cell_type": "code",
   "execution_count": 4,
   "metadata": {},
   "outputs": [],
   "source": [
    "root = parser.parse('^author (.*)')"
   ]
  },
  {
   "cell_type": "code",
   "execution_count": 5,
   "metadata": {},
   "outputs": [
    {
     "data": {
      "text/plain": [
       "parser.Node"
      ]
     },
     "execution_count": 5,
     "metadata": {},
     "output_type": "execute_result"
    }
   ],
   "source": [
    "type(root)"
   ]
  },
  {
   "cell_type": "code",
   "execution_count": 6,
   "metadata": {},
   "outputs": [
    {
     "data": {
      "text/plain": [
       "Expression([Anchor([], ^), Expression([String([String([String([String([String([String([String([None], Whitespace([],  ))], Letter([], r))], Letter([], o))], Letter([], h))], Letter([], t))], Letter([], u))], Letter([], a)), Expression([Group([Expression([String([], .*), None], None)], capture), None], None)], None)], None)"
      ]
     },
     "execution_count": 6,
     "metadata": {},
     "output_type": "execute_result"
    }
   ],
   "source": [
    "root"
   ]
  },
  {
   "cell_type": "code",
   "execution_count": 7,
   "metadata": {},
   "outputs": [],
   "source": [
    "def preorder(root):\n",
    "    if not root: return\n",
    "    res = []\n",
    "    stack = []\n",
    "    level = 1\n",
    "    stack.append((root, level))\n",
    "\n",
    "    while len(stack) > 0:\n",
    "        node, level = stack.pop()\n",
    "        res.append((node.type, node.value, level))\n",
    "        print(' '*level + f'{node.type}({node.value})')\n",
    "\n",
    "        for child in node.children[::-1]:\n",
    "            if child:\n",
    "                stack.append((child,level+1))\n",
    "    return res"
   ]
  },
  {
   "cell_type": "code",
   "execution_count": 8,
   "metadata": {},
   "outputs": [],
   "source": [
    "def postorder(root):\n",
    "    stack = []\n",
    "    res = []\n",
    "    level = 1\n",
    "    stack.append((root, level))\n",
    "    \n",
    "    while len(stack) > 0:\n",
    "        node, level = stack.pop()\n",
    "        res.insert(0, (node.type, node.value, level))\n",
    "        for child in node.children:\n",
    "            if child:\n",
    "                stack.append((child, level+1))\n",
    "                \n",
    "    return res  "
   ]
  },
  {
   "cell_type": "code",
   "execution_count": 54,
   "metadata": {},
   "outputs": [
    {
     "data": {
      "text/plain": [
       "[('Anchor', '^', 2),\n",
       " ('String', Whitespace([],  ), 9),\n",
       " ('String', Letter([], r), 8),\n",
       " ('String', Letter([], o), 7),\n",
       " ('String', Letter([], h), 6),\n",
       " ('String', Letter([], t), 5),\n",
       " ('String', Letter([], u), 4),\n",
       " ('String', Letter([], a), 3),\n",
       " ('String', '.*', 6),\n",
       " ('Expression', None, 5),\n",
       " ('Group', 'capture', 4),\n",
       " ('Expression', None, 3),\n",
       " ('Expression', None, 2),\n",
       " ('Expression', None, 1)]"
      ]
     },
     "execution_count": 54,
     "metadata": {},
     "output_type": "execute_result"
    }
   ],
   "source": [
    "traversal = postorder(root)\n",
    "traversal"
   ]
  },
  {
   "cell_type": "code",
   "execution_count": 56,
   "metadata": {},
   "outputs": [
    {
     "data": {
      "text/plain": [
       "[[('Anchor', '^', 2)],\n",
       " [('String', Whitespace([],  ), 9),\n",
       "  ('String', Letter([], r), 8),\n",
       "  ('String', Letter([], o), 7),\n",
       "  ('String', Letter([], h), 6),\n",
       "  ('String', Letter([], t), 5),\n",
       "  ('String', Letter([], u), 4),\n",
       "  ('String', Letter([], a), 3)],\n",
       " [('String', '.*', 6),\n",
       "  ('Expression', None, 5),\n",
       "  ('Group', 'capture', 4),\n",
       "  ('Expression', None, 3),\n",
       "  ('Expression', None, 2),\n",
       "  ('Expression', None, 1)]]"
      ]
     },
     "execution_count": 56,
     "metadata": {},
     "output_type": "execute_result"
    }
   ],
   "source": [
    "build_expression(traversal)"
   ]
  },
  {
   "cell_type": "code",
   "execution_count": 9,
   "metadata": {},
   "outputs": [],
   "source": [
    "from collections import defaultdict"
   ]
  },
  {
   "cell_type": "code",
   "execution_count": 52,
   "metadata": {},
   "outputs": [],
   "source": [
    "def build_expression(traversal):\n",
    "    paths = []\n",
    "    path = []\n",
    "    i = 0\n",
    "    \n",
    "    while True:\n",
    "        j = i + 1\n",
    "        if j == len(traversal):\n",
    "            path.append(traversal[i])\n",
    "            paths.append(path)\n",
    "            return paths\n",
    "        \n",
    "        if traversal[j][2] > traversal[i][2]:\n",
    "            path.append(traversal[i])\n",
    "            paths.append(path)\n",
    "            path = []\n",
    "        elif traversal[j][2] < traversal[i][2]:\n",
    "            path.append(traversal[i])\n",
    "        \n",
    "        i += 1\n",
    "    return paths"
   ]
  },
  {
   "cell_type": "code",
   "execution_count": 46,
   "metadata": {},
   "outputs": [],
   "source": [
    "def parse_expression(expression):\n",
    "    subtrees = defaultdict(list)\n",
    "    \n",
    "    for path in expression:\n",
    "        # Check for leaf nodes\n",
    "        if len(path) == 1: \n",
    "            # Anchor tag string value\n",
    "            if path[0][0] == 'Anchor':\n",
    "                if path[0][1] == '$':\n",
    "                    subtrees[path[0][2]].append('end of line')\n",
    "                elif path[0][1] == '^':\n",
    "                    subtrees[path[0][2]].append('start of line')\n",
    "        else:\n",
    "            types = list(set(node[0] for node in path))\n",
    "            # If all nodes on a path are the same type\n",
    "            if len(types) == 1:\n",
    "                # Concatenate string nodes into single string\n",
    "                if types[0] == 'String':\n",
    "                    string = ''\n",
    "                    for node in path[::-1]:\n",
    "                        string += node[1].value\n",
    "                    subtrees[path[-1][2]].append(f'string \"{string}\"')\n",
    "            else:\n",
    "                result = ''\n",
    "                for curr, next in zip(path, path[1:]):\n",
    "                    \n",
    "                    \n",
    "    return subtrees"
   ]
  },
  {
   "cell_type": "code",
   "execution_count": 49,
   "metadata": {},
   "outputs": [
    {
     "name": "stdout",
     "output_type": "stream",
     "text": [
      "[('Anchor', '^', 2), ('String', Whitespace([],  ), 9), ('String', Letter([], r), 8), ('String', Letter([], o), 7), ('String', Letter([], h), 6), ('String', Letter([], t), 5), ('String', Letter([], u), 4), ('String', Letter([], a), 3), ('String', '.*', 6), ('Expression', None, 5), ('Group', 'capture', 4), ('Expression', None, 3), ('Expression', None, 2), ('Expression', None, 1)]\n",
      " Expression(None)\n",
      "  Anchor(^)\n",
      "  Expression(None)\n",
      "   String(Letter([], a))\n",
      "    String(Letter([], u))\n",
      "     String(Letter([], t))\n",
      "      String(Letter([], h))\n",
      "       String(Letter([], o))\n",
      "        String(Letter([], r))\n",
      "         String(Whitespace([],  ))\n",
      "   Expression(None)\n",
      "    Group(capture)\n",
      "     Expression(None)\n",
      "      String(.*)\n"
     ]
    },
    {
     "data": {
      "text/plain": [
       "[[('Anchor', '^', 2)],\n",
       " [('String', Whitespace([],  ), 9),\n",
       "  ('String', Letter([], r), 8),\n",
       "  ('String', Letter([], o), 7),\n",
       "  ('String', Letter([], h), 6),\n",
       "  ('String', Letter([], t), 5),\n",
       "  ('String', Letter([], u), 4),\n",
       "  ('String', Letter([], a), 3)],\n",
       " [('String', '.*', 6),\n",
       "  ('Expression', None, 5),\n",
       "  ('Group', 'capture', 4),\n",
       "  ('Expression', None, 3),\n",
       "  ('Expression', None, 2),\n",
       "  ('Expression', None, 1)]]"
      ]
     },
     "execution_count": 49,
     "metadata": {},
     "output_type": "execute_result"
    }
   ],
   "source": [
    "traversal = postorder(parser.parse('^author (.*)'))\n",
    "print(traversal)\n",
    "preorder(parser.parse('^author (.*)'))\n",
    "expression = build_expression(traversal)\n",
    "expression"
   ]
  },
  {
   "cell_type": "code",
   "execution_count": 48,
   "metadata": {},
   "outputs": [
    {
     "data": {
      "text/plain": [
       "defaultdict(list,\n",
       "            {2: ['start of line'],\n",
       "             3: ['string \"author \"', ('String', '.*', 6)]})"
      ]
     },
     "execution_count": 48,
     "metadata": {},
     "output_type": "execute_result"
    }
   ],
   "source": [
    "parse_expression(expression)"
   ]
  },
  {
   "cell_type": "code",
   "execution_count": 14,
   "metadata": {},
   "outputs": [
    {
     "data": {
      "text/plain": [
       "[[('Word', '\\\\w+', 6),\n",
       "  ('Expression', None, 5),\n",
       "  ('Group', 'capture', 4),\n",
       "  ('Expression', None, 3),\n",
       "  ('Closure', 'curly brace', 2),\n",
       "  ('Expression', None, 1)]]"
      ]
     },
     "execution_count": 14,
     "metadata": {},
     "output_type": "execute_result"
    }
   ],
   "source": [
    "traversal = postorder(parser.parse('{(\\w+)}'))\n",
    "expression = build_expression(traversal)\n",
    "expression"
   ]
  },
  {
   "cell_type": "code",
   "execution_count": 57,
   "metadata": {},
   "outputs": [
    {
     "data": {
      "text/plain": [
       "[[('String', '.*', 2)],\n",
       " [('String', Punctuation([], .), 3)],\n",
       " [('String', Letter([], a), 6)],\n",
       " [('String', Letter([], o), 9), ('String', Letter([], s), 8)],\n",
       " [('String', Letter([], b), 14),\n",
       "  ('String', Letter([], i), 13),\n",
       "  ('String', Letter([], l), 12),\n",
       "  ('String', Letter([], y), 11),\n",
       "  ('String', Letter([], d), 10),\n",
       "  ('Expression', None, 9),\n",
       "  ('Alternation', 'or', 8),\n",
       "  ('Expression', None, 7),\n",
       "  ('Alternation', 'or', 6),\n",
       "  ('Expression', None, 5),\n",
       "  ('Group', 'capture', 4)],\n",
       " [('Anchor', '$', 5),\n",
       "  ('Expression', None, 4),\n",
       "  ('Expression', None, 3),\n",
       "  ('Expression', None, 2),\n",
       "  ('Expression', None, 1)]]"
      ]
     },
     "execution_count": 57,
     "metadata": {},
     "output_type": "execute_result"
    }
   ],
   "source": [
    "traversal = postorder(parser.parse('.*\\.(a|so|dylib)$'))\n",
    "expression = build_expression(traversal)\n",
    "expression"
   ]
  }
 ],
 "metadata": {
  "kernelspec": {
   "display_name": "Python 3",
   "language": "python",
   "name": "python3"
  },
  "language_info": {
   "codemirror_mode": {
    "name": "ipython",
    "version": 3
   },
   "file_extension": ".py",
   "mimetype": "text/x-python",
   "name": "python",
   "nbconvert_exporter": "python",
   "pygments_lexer": "ipython3",
   "version": "3.7.4"
  }
 },
 "nbformat": 4,
 "nbformat_minor": 2
}
