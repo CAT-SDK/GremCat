{
  "nbformat": 4,
  "nbformat_minor": 0,
  "metadata": {
    "colab": {
      "name": "Database Tutorial",
      "provenance": [],
      "collapsed_sections": [
        "4otSPrWNyZDR",
        "lm84T14Ba7X0",
        "WyWBjRWza2vX",
        "zUTXzacd4GV7",
        "EHslkNZwi8TF",
        "RBHOl3tWYvUQ",
        "5MHcHwp1dIbR",
        "KR9AxdYCw9YN"
      ],
      "authorship_tag": "ABX9TyORUbxgWcr+oBIR50xZAOBr"
    },
    "kernelspec": {
      "name": "python3",
      "display_name": "Python 3"
    },
    "language_info": {
      "name": "python"
    }
  },
  "cells": [
    {
      "cell_type": "markdown",
      "metadata": {
        "id": "4otSPrWNyZDR"
      },
      "source": [
        "# Set up\n"
      ]
    },
    {
      "cell_type": "code",
      "metadata": {
        "id": "1XOq4Be4-Epe",
        "colab": {
          "base_uri": "https://localhost:8080/"
        },
        "outputId": "2035979c-19a1-4ffd-ba67-243fb762c589"
      },
      "source": [
        "!pip install mysqlclient"
      ],
      "execution_count": 35,
      "outputs": [
        {
          "output_type": "stream",
          "name": "stdout",
          "text": [
            "Requirement already satisfied: mysqlclient in /usr/local/lib/python3.7/dist-packages (2.0.3)\n"
          ]
        }
      ]
    },
    {
      "cell_type": "code",
      "metadata": {
        "id": "0d1149a5"
      },
      "source": [
        "import MySQLdb"
      ],
      "execution_count": 36,
      "outputs": []
    },
    {
      "cell_type": "code",
      "metadata": {
        "id": "602d87f7"
      },
      "source": [
        "import getpass"
      ],
      "execution_count": 37,
      "outputs": []
    },
    {
      "cell_type": "code",
      "metadata": {
        "id": "b17ab790"
      },
      "source": [
        "import pandas as pd"
      ],
      "execution_count": 38,
      "outputs": []
    },
    {
      "cell_type": "code",
      "metadata": {
        "id": "2995f398",
        "colab": {
          "base_uri": "https://localhost:8080/"
        },
        "outputId": "5ab4aa34-4c3b-4c68-ee69-5869b829fdd7"
      },
      "source": [
        "db = MySQLdb.connect(host='sansa.cs.uoregon.edu', port=3331, user='ideas_user', passwd=getpass.getpass('db pass:\\t'), db='ideas_db', charset='utf8', read_timeout=86400)"
      ],
      "execution_count": 39,
      "outputs": [
        {
          "name": "stdout",
          "output_type": "stream",
          "text": [
            "db pass:\t··········\n"
          ]
        }
      ]
    },
    {
      "cell_type": "code",
      "metadata": {
        "id": "d19b5f2a"
      },
      "source": [
        "cursor = db.cursor()"
      ],
      "execution_count": 40,
      "outputs": []
    },
    {
      "cell_type": "code",
      "metadata": {
        "id": "GDgUVM9Iyix2"
      },
      "source": [
        "def get_commits(proj_name):\n",
        "    query = f'''\n",
        "    select proj.id as project_id, proj.name as project_name,\n",
        "\t   proj.last_updated as project_last_updated, proj.source_url as project_source_url,\n",
        "       proj.fork_of_id as project_fork_of_id, proj.child_of_id as project_child_of_id,\n",
        "       c.id as commit_id, c.hash as commit_sha, c.datetime as commit_datetime, c.message as commit_message,\n",
        "       c.branch as commit_branch, a.id as author_id, a.username as author_username, a.name as author_name,\n",
        "       a.email as author_email, a.url as author_url, d.file_path as diff_file_path, d.language as diff_language,\n",
        "       d.body as diff_body\n",
        "    from project proj join commit c on(proj.id=c.project_id) join author a on(c.author_id=a.id)\n",
        "        join diff d on (d.commit_id=c.id)\n",
        "    where proj.name = '{proj_name}'\n",
        "    '''\n",
        "    cursor.execute(query)\n",
        "    data = cursor.fetchall()\n",
        "    cols = [col[0] for col in cursor.description]\n",
        "    return pd.DataFrame(data, columns=cols)"
      ],
      "execution_count": 41,
      "outputs": []
    },
    {
      "cell_type": "code",
      "metadata": {
        "id": "1c2dce92"
      },
      "source": [
        "def get_prs(proj_name):\n",
        "    query = f'''\n",
        "    select proj.id as project_id, proj.name as project_name,\n",
        "\t   proj.last_updated as project_last_updated, proj.source_url as project_source_url,\n",
        "       proj.fork_of_id as project_fork_of_id, proj.child_of_id as project_child_of_id,\n",
        "       p.id as pr_id, p.title as pr_title, p.description as pr_description, p.updated_at as pr_updated_at, p.created_at pr_created_at,\n",
        "       p.locked as pr_locked, p.url as pr_url, p.number as pr_number, p.state as pr_state, p.merged_at as pr_merged_at,\n",
        "       p.head_sha as pr_head_sha, a1.id as pr_author_id, a1.username as pr_author_username, a1.email as pr_author_email,\n",
        "       a1.name as pr_author_name, a1.url as pr_author_url, m.id as milestone_id, m.title as milestone_title,\n",
        "       m.description as milestone_description, m.state as milestone_state, m.due_on as milestone_due_on,\n",
        "       m.created_at as milestone_created_at, m.updated_at as milestone_updated_at, l.id as pr_label_id, l.name as pr_label,\n",
        "       a2.id as pr_assignee_id, a2.name as pr_assignee_name, a2.url as pr_assignee_url, a2.username as pr_assignee_username, a2.email as pr_assignee_email,\n",
        "       ct.id as pr_sha_id, ct.sha as pr_sha, comm.id as pr_comment_id, comm.created_at as pr_comment_created_at, comm.updated_at as pr_comment_updated_at, comm.body as pr_comment_body,\n",
        "\t   a3.id as pr_comment_author_id, a3.name as pr_comment_author_name, a3.url as pr_comment_author_url, a3.username as pr_comment_author_username, a3.email as pr_comment_author_email,\n",
        "       it.url as linked_issue_url\n",
        "    from project proj join pr p on(p.project_id = proj.id) join author a1 on(a1.id=p.author_id) \n",
        "\t   left join milestone m on(m.pr_id=p.id) left join pr_has_label phl on(phl.pr_id=p.id) left join label l on(l.id=phl.label_id)\n",
        "       left join pr_has_assignee pha on(pha.pr_id=p.id) left join author a2 on(a2.id=pha.assignee_id)\n",
        "       left join pr_has_commit phc on(phc.pr_id=p.id) left join commit_tag ct on(ct.id=phc.commit_id)\n",
        "       left join comment comm on(comm.pr_id=p.id) left join author a3 on(a3.id=comm.author_id)\n",
        "       left join pr_has_issue phi on(phi.pr_id=p.id) left join issue_tag it on(it.id=phi.issue_id)\n",
        "    where proj.name = '{proj_name}';\n",
        "    '''\n",
        "    cursor.execute(query)\n",
        "    data = cursor.fetchall()\n",
        "    cols = [col[0] for col in cursor.description]\n",
        "    return pd.DataFrame(data, columns=cols)\n",
        "    "
      ],
      "execution_count": 42,
      "outputs": []
    },
    {
      "cell_type": "code",
      "metadata": {
        "id": "823d820d"
      },
      "source": [
        "def get_issues(proj_name):\n",
        "    query = f'''\n",
        "    select proj.id as project_id, proj.name as project_name,\n",
        "\t   proj.last_updated as project_last_updated, proj.source_url as project_source_url,\n",
        "       proj.fork_of_id as project_fork_of_id, proj.child_of_id as project_child_of_id,\n",
        "\t   i.id as issue_id, i.title as issue_title, i.description as issue_description, i.created_at as issue_created_at,\n",
        "\t   i.updated_at as issue_updated_at, i.closed_at as issue_closed_at, i.locked as issue_locked, i.state as issue_state,\n",
        "       i.url as issue_url, i.number as issue_number, a1.username as issue_author_username, a1.email as issue_author_email,\n",
        "       a1.name as issue_author_name, a1.url as issue_author_url, m.id as milestone_id, m.title as milestone_title,\n",
        "       m.description as milestone_description, m.state as milestone_state, m.due_on as milestone_due_on,\n",
        "       m.created_at as milestone_created_at, m.updated_at as milestone_updated_at, l.id as issue_label_id, l.name as issue_label,\n",
        "       a2.id as issue_assignee_id, a2.name as issue_assignee_name, a2.url as issue_assignee_url, a2.username as issue_assignee_username, a2.email as issue_assignee_email,\n",
        "       comm.id as issue_comment_id, comm.created_at as issue_comment_created_at, comm.updated_at as issue_comment_updated_at, comm.body as issue_comment_body,\n",
        "\t   a3.id as issue_comment_author_id, a3.name as issue_comment_author_name, a3.url as issue_comment_author_url, a3.username as issue_comment_author_username, a3.email as issue_comment_author_email\n",
        "    from project proj join issue i on(proj.id=i.project_id) join author a1 on(a1.id=i.author_id) \n",
        "         left join milestone m on(m.issue_id=i.id) left join issue_has_label ihl on(ihl.issue_id=i.id) \n",
        "         left join label l on(l.id=ihl.label_id) left join issue_has_assignee iha on(iha.issue_id=i.id)\n",
        "         left join author a2 on(iha.assignee_id=a2.id) left join comment comm on(comm.issue_id=i.id) left join author a3 on(a3.id=comm.author_id)\n",
        "    where proj.name = '{proj_name}';'''\n",
        "    cursor.execute(query)\n",
        "    data = cursor.fetchall()\n",
        "    cols = [col[0] for col in cursor.description]\n",
        "    return pd.DataFrame(data, columns=cols)"
      ],
      "execution_count": 43,
      "outputs": []
    },
    {
      "cell_type": "code",
      "metadata": {
        "id": "LnO03lNF3uS2"
      },
      "source": [
        "def get_events(proj_name):\n",
        "    query =f'''\n",
        "    select p.id as project_id, p.source_url as project_url, p.name as project_name, p.last_updated as project_last_updated,\n",
        "\t   e.id as event_id, e.api_id as event_api_id, e.type as event_type, e.public as event_public, e.created_at as event_created_at,\n",
        "       ea.id as event_actor_id, ea.actor_id as event_actor_api_id, ea.login as event_actor_login, ea.url as event_actor_url, \n",
        "       ea.avatar_url as event_actor_avatar_url, ea.gravatar_id as event_actor_gravatar_id,\n",
        "       eo.id as event_org_id, eo.org_id as event_org_api_id, eo.login as event_org_login, eo.url as event_org_url, \n",
        "       eo.avatar_url as event_org_avatar_url, eo.gravatar_id as event_org_gravatar_id,\n",
        "       er.id as event_repo_id, er.repo_id as event_repo_api_id, er.name as event_repo_name, er.url as event_repo_url,\n",
        "       ep.id as event_payload_id, ep.action as event_payload_action, ep.ref as event_payload_ref, ep.ref_type as event_payload_ref_type,\n",
        "       ep.master_branch as event_payload_master_branch,\tep.description as event_payload_description, ep.forkee_url as event_payload_forkee_url,\n",
        "       ep.issue_url as event_payload_issue_url, ep.comment_url as event_payload_comment_url, ep.member_login as event_payload_member_login, \n",
        "       ep.pr_number as event_payload_pr_number,\tep.pr_url as event_payload_pr_url, ep.pr_review_url as event_payload_pr_review_url,\t\n",
        "       ep.push_id as event_payload_push_id,\tep.size as event_payload_size, ep.distinct_size as event_payload_distinct_size,\t\n",
        "       ep.head_sha as event_payload_head_sha, ep.before_sha as event_payload_before_sha, ep.release_url as event_payload_release_url,\n",
        "       ep.effective_date as event_payload_effective_date, epage.id as event_page_id, epage.name as event_page_name, epage.title as event_page_title,\n",
        "       epage.action as event_page_action, epage.sha as event_page_sha, epage.url event_page_url\n",
        "    from project p join event e on(p.id=e.project_id) join event_actor ea on(e.actor_id=ea.id) join event_org eo on(e.org_id=eo.id)\n",
        "\t\t\t   join event_repo er on(e.repo_id=er.id) join event_payload ep on(e.payload_id=ep.id) left join event_has_page ehp on(ehp.payload_id=ep.id)\n",
        "               left join event_page epage on (ehp.page_id=epage.id)\n",
        "    where p.name = '{proj_name}';'''\n",
        "    cursor.execute(query)\n",
        "    data = cursor.fetchall()\n",
        "    cols = [col[0] for col in cursor.description]\n",
        "    return pd.DataFrame(data, columns=cols)"
      ],
      "execution_count": 44,
      "outputs": []
    },
    {
      "cell_type": "code",
      "metadata": {
        "id": "z1J7uKRmyrwF",
        "colab": {
          "base_uri": "https://localhost:8080/"
        },
        "outputId": "133ed2b2-f894-4e33-c7b6-f5517aef4992"
      },
      "source": [
        "%%time\n",
        "commit_df = get_commits('anl_test_repo')"
      ],
      "execution_count": 45,
      "outputs": [
        {
          "output_type": "stream",
          "name": "stdout",
          "text": [
            "CPU times: user 111 ms, sys: 77.7 ms, total: 188 ms\n",
            "Wall time: 259 ms\n"
          ]
        }
      ]
    },
    {
      "cell_type": "code",
      "metadata": {
        "id": "YfMyBgy0CAMr",
        "colab": {
          "base_uri": "https://localhost:8080/"
        },
        "outputId": "47551ac6-3a2e-4583-dbe1-bafb62f4e699"
      },
      "source": [
        "%%time\n",
        "pr_df = get_prs('anl_test_repo')"
      ],
      "execution_count": 46,
      "outputs": [
        {
          "output_type": "stream",
          "name": "stdout",
          "text": [
            "CPU times: user 130 ms, sys: 35.5 ms, total: 166 ms\n",
            "Wall time: 241 ms\n"
          ]
        }
      ]
    },
    {
      "cell_type": "code",
      "metadata": {
        "id": "plS0ygX4wV4t",
        "colab": {
          "base_uri": "https://localhost:8080/"
        },
        "outputId": "c5823dde-bfe1-47a8-b3a4-132cf06c5ee7"
      },
      "source": [
        "%%time\n",
        "issue_df = get_issues('anl_test_repo')"
      ],
      "execution_count": 47,
      "outputs": [
        {
          "output_type": "stream",
          "name": "stdout",
          "text": [
            "CPU times: user 9.62 ms, sys: 0 ns, total: 9.62 ms\n",
            "Wall time: 81.8 ms\n"
          ]
        }
      ]
    },
    {
      "cell_type": "code",
      "metadata": {
        "colab": {
          "base_uri": "https://localhost:8080/"
        },
        "id": "zgRorbjz4DO7",
        "outputId": "4c445611-8140-48f8-d723-843f1050a1e1"
      },
      "source": [
        "%%time\n",
        "event_df = get_events('anl_test_repo')"
      ],
      "execution_count": 48,
      "outputs": [
        {
          "output_type": "stream",
          "name": "stdout",
          "text": [
            "CPU times: user 5.41 ms, sys: 423 µs, total: 5.84 ms\n",
            "Wall time: 82 ms\n"
          ]
        }
      ]
    },
    {
      "cell_type": "markdown",
      "metadata": {
        "id": "08Mt-HYfCDhR"
      },
      "source": [
        "# Viewing the Data"
      ]
    },
    {
      "cell_type": "markdown",
      "metadata": {
        "id": "lm84T14Ba7X0"
      },
      "source": [
        "## Commits"
      ]
    },
    {
      "cell_type": "code",
      "metadata": {
        "colab": {
          "base_uri": "https://localhost:8080/"
        },
        "id": "87FMbo-sCNN1",
        "outputId": "d103e48f-df23-41f7-84b7-27f26b5f0bcc"
      },
      "source": [
        "commit_df.shape"
      ],
      "execution_count": 49,
      "outputs": [
        {
          "output_type": "execute_result",
          "data": {
            "text/plain": [
              "(12, 19)"
            ]
          },
          "metadata": {},
          "execution_count": 49
        }
      ]
    },
    {
      "cell_type": "code",
      "metadata": {
        "colab": {
          "base_uri": "https://localhost:8080/"
        },
        "id": "r-dBwBabCcvR",
        "outputId": "852892c1-cbe9-4f04-950e-0624f0e72a2c"
      },
      "source": [
        "commit_df.columns"
      ],
      "execution_count": 50,
      "outputs": [
        {
          "output_type": "execute_result",
          "data": {
            "text/plain": [
              "Index(['project_id', 'project_name', 'project_last_updated',\n",
              "       'project_source_url', 'project_fork_of_id', 'project_child_of_id',\n",
              "       'commit_id', 'commit_sha', 'commit_datetime', 'commit_message',\n",
              "       'commit_branch', 'author_id', 'author_username', 'author_name',\n",
              "       'author_email', 'author_url', 'diff_file_path', 'diff_language',\n",
              "       'diff_body'],\n",
              "      dtype='object')"
            ]
          },
          "metadata": {},
          "execution_count": 50
        }
      ]
    },
    {
      "cell_type": "code",
      "metadata": {
        "colab": {
          "base_uri": "https://localhost:8080/",
          "height": 496
        },
        "id": "i8IRHfOnCO7f",
        "outputId": "3b4da546-c639-4199-bcb5-de4803798169"
      },
      "source": [
        "commit_df.head()"
      ],
      "execution_count": 51,
      "outputs": [
        {
          "output_type": "execute_result",
          "data": {
            "text/html": [
              "<div>\n",
              "<style scoped>\n",
              "    .dataframe tbody tr th:only-of-type {\n",
              "        vertical-align: middle;\n",
              "    }\n",
              "\n",
              "    .dataframe tbody tr th {\n",
              "        vertical-align: top;\n",
              "    }\n",
              "\n",
              "    .dataframe thead th {\n",
              "        text-align: right;\n",
              "    }\n",
              "</style>\n",
              "<table border=\"1\" class=\"dataframe\">\n",
              "  <thead>\n",
              "    <tr style=\"text-align: right;\">\n",
              "      <th></th>\n",
              "      <th>project_id</th>\n",
              "      <th>project_name</th>\n",
              "      <th>project_last_updated</th>\n",
              "      <th>project_source_url</th>\n",
              "      <th>project_fork_of_id</th>\n",
              "      <th>project_child_of_id</th>\n",
              "      <th>commit_id</th>\n",
              "      <th>commit_sha</th>\n",
              "      <th>commit_datetime</th>\n",
              "      <th>commit_message</th>\n",
              "      <th>commit_branch</th>\n",
              "      <th>author_id</th>\n",
              "      <th>author_username</th>\n",
              "      <th>author_name</th>\n",
              "      <th>author_email</th>\n",
              "      <th>author_url</th>\n",
              "      <th>diff_file_path</th>\n",
              "      <th>diff_language</th>\n",
              "      <th>diff_body</th>\n",
              "    </tr>\n",
              "  </thead>\n",
              "  <tbody>\n",
              "    <tr>\n",
              "      <th>0</th>\n",
              "      <td>30</td>\n",
              "      <td>anl_test_repo</td>\n",
              "      <td>2021-07-30 21:43:15</td>\n",
              "      <td>https://github.com/fickas/anl_test_repo.git</td>\n",
              "      <td>None</td>\n",
              "      <td>None</td>\n",
              "      <td>230197</td>\n",
              "      <td>084c98c23b10309c29a8f9a12d681cfbd29bd986</td>\n",
              "      <td>2021-07-28 10:46:41</td>\n",
              "      <td>Create codeql-analysis.yml</td>\n",
              "      <td>* main\\n  remotes/origin/HEAD -&gt; origin/main\\n...</td>\n",
              "      <td>2247</td>\n",
              "      <td>fickas</td>\n",
              "      <td>None</td>\n",
              "      <td>fickas@cs.uoregon.edu</td>\n",
              "      <td>None</td>\n",
              "      <td>.github/workflows/codeql-analysis.yml</td>\n",
              "      <td>PLACEHOLDER</td>\n",
              "      <td>+# For most projects, this workflow file will ...</td>\n",
              "    </tr>\n",
              "    <tr>\n",
              "      <th>1</th>\n",
              "      <td>30</td>\n",
              "      <td>anl_test_repo</td>\n",
              "      <td>2021-07-30 21:43:15</td>\n",
              "      <td>https://github.com/fickas/anl_test_repo.git</td>\n",
              "      <td>None</td>\n",
              "      <td>None</td>\n",
              "      <td>230197</td>\n",
              "      <td>084c98c23b10309c29a8f9a12d681cfbd29bd986</td>\n",
              "      <td>2021-07-28 10:46:41</td>\n",
              "      <td>Create codeql-analysis.yml</td>\n",
              "      <td>* main\\n  remotes/origin/HEAD -&gt; origin/main\\n...</td>\n",
              "      <td>2247</td>\n",
              "      <td>fickas</td>\n",
              "      <td>None</td>\n",
              "      <td>fickas@cs.uoregon.edu</td>\n",
              "      <td>None</td>\n",
              "      <td>.github/workflows/codeql-analysis.yml</td>\n",
              "      <td>PLACEHOLDER</td>\n",
              "      <td>+# For most projects, this workflow file will ...</td>\n",
              "    </tr>\n",
              "    <tr>\n",
              "      <th>2</th>\n",
              "      <td>30</td>\n",
              "      <td>anl_test_repo</td>\n",
              "      <td>2021-07-30 21:43:15</td>\n",
              "      <td>https://github.com/fickas/anl_test_repo.git</td>\n",
              "      <td>None</td>\n",
              "      <td>None</td>\n",
              "      <td>230198</td>\n",
              "      <td>09d8d646e114b4a68bd2f216b8f036b1c60356f4</td>\n",
              "      <td>2021-07-26 10:11:04</td>\n",
              "      <td>Update test_file.py\\n    \\n    Added comment.</td>\n",
              "      <td>* main\\n  remotes/origin/HEAD -&gt; origin/main\\n...</td>\n",
              "      <td>2247</td>\n",
              "      <td>fickas</td>\n",
              "      <td>None</td>\n",
              "      <td>fickas@cs.uoregon.edu</td>\n",
              "      <td>None</td>\n",
              "      <td>test_file.py</td>\n",
              "      <td>PLACEHOLDER</td>\n",
              "      <td>+#print hello name!</td>\n",
              "    </tr>\n",
              "    <tr>\n",
              "      <th>3</th>\n",
              "      <td>30</td>\n",
              "      <td>anl_test_repo</td>\n",
              "      <td>2021-07-30 21:43:15</td>\n",
              "      <td>https://github.com/fickas/anl_test_repo.git</td>\n",
              "      <td>None</td>\n",
              "      <td>None</td>\n",
              "      <td>230198</td>\n",
              "      <td>09d8d646e114b4a68bd2f216b8f036b1c60356f4</td>\n",
              "      <td>2021-07-26 10:11:04</td>\n",
              "      <td>Update test_file.py\\n    \\n    Added comment.</td>\n",
              "      <td>* main\\n  remotes/origin/HEAD -&gt; origin/main\\n...</td>\n",
              "      <td>2247</td>\n",
              "      <td>fickas</td>\n",
              "      <td>None</td>\n",
              "      <td>fickas@cs.uoregon.edu</td>\n",
              "      <td>None</td>\n",
              "      <td>test_file.py</td>\n",
              "      <td>PLACEHOLDER</td>\n",
              "      <td>+#print hello name!</td>\n",
              "    </tr>\n",
              "    <tr>\n",
              "      <th>4</th>\n",
              "      <td>30</td>\n",
              "      <td>anl_test_repo</td>\n",
              "      <td>2021-07-30 21:43:15</td>\n",
              "      <td>https://github.com/fickas/anl_test_repo.git</td>\n",
              "      <td>None</td>\n",
              "      <td>None</td>\n",
              "      <td>230199</td>\n",
              "      <td>302dd37076dc9be51de80d2aaa3503298415d6ad</td>\n",
              "      <td>2021-07-26 10:10:31</td>\n",
              "      <td>Update test_file.py\\n    \\n    Added bang</td>\n",
              "      <td>* main\\n  remotes/origin/HEAD -&gt; origin/main\\n...</td>\n",
              "      <td>2247</td>\n",
              "      <td>fickas</td>\n",
              "      <td>None</td>\n",
              "      <td>fickas@cs.uoregon.edu</td>\n",
              "      <td>None</td>\n",
              "      <td>test_file.py</td>\n",
              "      <td>PLACEHOLDER</td>\n",
              "      <td>-  return f'Hello {name}\\n+  return f'Hello {n...</td>\n",
              "    </tr>\n",
              "  </tbody>\n",
              "</table>\n",
              "</div>"
            ],
            "text/plain": [
              "   project_id  ...                                          diff_body\n",
              "0          30  ...  +# For most projects, this workflow file will ...\n",
              "1          30  ...  +# For most projects, this workflow file will ...\n",
              "2          30  ...                                +#print hello name!\n",
              "3          30  ...                                +#print hello name!\n",
              "4          30  ...  -  return f'Hello {name}\\n+  return f'Hello {n...\n",
              "\n",
              "[5 rows x 19 columns]"
            ]
          },
          "metadata": {},
          "execution_count": 51
        }
      ]
    },
    {
      "cell_type": "markdown",
      "metadata": {
        "id": "Ouo1btF_a5Fz"
      },
      "source": [
        "## Pull Requests"
      ]
    },
    {
      "cell_type": "code",
      "metadata": {
        "colab": {
          "base_uri": "https://localhost:8080/"
        },
        "id": "MxQqkW1XCRAt",
        "outputId": "15591279-37ab-4b9d-9290-187315298c25"
      },
      "source": [
        "pr_df.shape"
      ],
      "execution_count": 52,
      "outputs": [
        {
          "output_type": "execute_result",
          "data": {
            "text/plain": [
              "(15, 48)"
            ]
          },
          "metadata": {},
          "execution_count": 52
        }
      ]
    },
    {
      "cell_type": "code",
      "metadata": {
        "colab": {
          "base_uri": "https://localhost:8080/"
        },
        "id": "ed7NauvLCa7s",
        "outputId": "031c5857-71b0-4024-891b-04f45de02934"
      },
      "source": [
        "pr_df.columns"
      ],
      "execution_count": 53,
      "outputs": [
        {
          "output_type": "execute_result",
          "data": {
            "text/plain": [
              "Index(['project_id', 'project_name', 'project_last_updated',\n",
              "       'project_source_url', 'project_fork_of_id', 'project_child_of_id',\n",
              "       'pr_id', 'pr_title', 'pr_description', 'pr_updated_at', 'pr_created_at',\n",
              "       'pr_locked', 'pr_url', 'pr_number', 'pr_state', 'pr_merged_at',\n",
              "       'pr_head_sha', 'pr_author_id', 'pr_author_username', 'pr_author_email',\n",
              "       'pr_author_name', 'pr_author_url', 'milestone_id', 'milestone_title',\n",
              "       'milestone_description', 'milestone_state', 'milestone_due_on',\n",
              "       'milestone_created_at', 'milestone_updated_at', 'pr_label_id',\n",
              "       'pr_label', 'pr_assignee_id', 'pr_assignee_name', 'pr_assignee_url',\n",
              "       'pr_assignee_username', 'pr_assignee_email', 'pr_sha_id', 'pr_sha',\n",
              "       'pr_comment_id', 'pr_comment_created_at', 'pr_comment_updated_at',\n",
              "       'pr_comment_body', 'pr_comment_author_id', 'pr_comment_author_name',\n",
              "       'pr_comment_author_url', 'pr_comment_author_username',\n",
              "       'pr_comment_author_email', 'linked_issue_url'],\n",
              "      dtype='object')"
            ]
          },
          "metadata": {},
          "execution_count": 53
        }
      ]
    },
    {
      "cell_type": "code",
      "metadata": {
        "colab": {
          "base_uri": "https://localhost:8080/",
          "height": 445
        },
        "id": "BLPqtdegCSVg",
        "outputId": "a2457ba7-5b5b-4bc2-c4d1-1c7a952b7caf"
      },
      "source": [
        "pr_df.head()"
      ],
      "execution_count": 54,
      "outputs": [
        {
          "output_type": "execute_result",
          "data": {
            "text/html": [
              "<div>\n",
              "<style scoped>\n",
              "    .dataframe tbody tr th:only-of-type {\n",
              "        vertical-align: middle;\n",
              "    }\n",
              "\n",
              "    .dataframe tbody tr th {\n",
              "        vertical-align: top;\n",
              "    }\n",
              "\n",
              "    .dataframe thead th {\n",
              "        text-align: right;\n",
              "    }\n",
              "</style>\n",
              "<table border=\"1\" class=\"dataframe\">\n",
              "  <thead>\n",
              "    <tr style=\"text-align: right;\">\n",
              "      <th></th>\n",
              "      <th>project_id</th>\n",
              "      <th>project_name</th>\n",
              "      <th>project_last_updated</th>\n",
              "      <th>project_source_url</th>\n",
              "      <th>project_fork_of_id</th>\n",
              "      <th>project_child_of_id</th>\n",
              "      <th>pr_id</th>\n",
              "      <th>pr_title</th>\n",
              "      <th>pr_description</th>\n",
              "      <th>pr_updated_at</th>\n",
              "      <th>pr_created_at</th>\n",
              "      <th>pr_locked</th>\n",
              "      <th>pr_url</th>\n",
              "      <th>pr_number</th>\n",
              "      <th>pr_state</th>\n",
              "      <th>pr_merged_at</th>\n",
              "      <th>pr_head_sha</th>\n",
              "      <th>pr_author_id</th>\n",
              "      <th>pr_author_username</th>\n",
              "      <th>pr_author_email</th>\n",
              "      <th>pr_author_name</th>\n",
              "      <th>pr_author_url</th>\n",
              "      <th>milestone_id</th>\n",
              "      <th>milestone_title</th>\n",
              "      <th>milestone_description</th>\n",
              "      <th>milestone_state</th>\n",
              "      <th>milestone_due_on</th>\n",
              "      <th>milestone_created_at</th>\n",
              "      <th>milestone_updated_at</th>\n",
              "      <th>pr_label_id</th>\n",
              "      <th>pr_label</th>\n",
              "      <th>pr_assignee_id</th>\n",
              "      <th>pr_assignee_name</th>\n",
              "      <th>pr_assignee_url</th>\n",
              "      <th>pr_assignee_username</th>\n",
              "      <th>pr_assignee_email</th>\n",
              "      <th>pr_sha_id</th>\n",
              "      <th>pr_sha</th>\n",
              "      <th>pr_comment_id</th>\n",
              "      <th>pr_comment_created_at</th>\n",
              "      <th>pr_comment_updated_at</th>\n",
              "      <th>pr_comment_body</th>\n",
              "      <th>pr_comment_author_id</th>\n",
              "      <th>pr_comment_author_name</th>\n",
              "      <th>pr_comment_author_url</th>\n",
              "      <th>pr_comment_author_username</th>\n",
              "      <th>pr_comment_author_email</th>\n",
              "      <th>linked_issue_url</th>\n",
              "    </tr>\n",
              "  </thead>\n",
              "  <tbody>\n",
              "    <tr>\n",
              "      <th>0</th>\n",
              "      <td>30</td>\n",
              "      <td>anl_test_repo</td>\n",
              "      <td>2021-07-30 21:43:15</td>\n",
              "      <td>https://github.com/fickas/anl_test_repo.git</td>\n",
              "      <td>None</td>\n",
              "      <td>None</td>\n",
              "      <td>7294</td>\n",
              "      <td>Bang bug - finally into main</td>\n",
              "      <td></td>\n",
              "      <td>2021-07-29 21:14:13</td>\n",
              "      <td>2021-07-26 17:17:16</td>\n",
              "      <td>0</td>\n",
              "      <td>https://github.com/fickas/anl_test_repo/pull/4</td>\n",
              "      <td>4</td>\n",
              "      <td>MERGED</td>\n",
              "      <td>2021-07-26 17:18:06</td>\n",
              "      <td>09d8d646e114b4a68bd2f216b8f036b1c60356f4</td>\n",
              "      <td>3729</td>\n",
              "      <td>fickas</td>\n",
              "      <td>None</td>\n",
              "      <td>None</td>\n",
              "      <td>https://github.com/fickas</td>\n",
              "      <td>None</td>\n",
              "      <td>None</td>\n",
              "      <td>None</td>\n",
              "      <td>None</td>\n",
              "      <td>None</td>\n",
              "      <td>None</td>\n",
              "      <td>None</td>\n",
              "      <td>None</td>\n",
              "      <td>None</td>\n",
              "      <td>NaN</td>\n",
              "      <td>None</td>\n",
              "      <td>None</td>\n",
              "      <td>None</td>\n",
              "      <td>None</td>\n",
              "      <td>32504</td>\n",
              "      <td>302dd37076dc9be51de80d2aaa3503298415d6ad</td>\n",
              "      <td>NaN</td>\n",
              "      <td>NaT</td>\n",
              "      <td>NaT</td>\n",
              "      <td>None</td>\n",
              "      <td>NaN</td>\n",
              "      <td>None</td>\n",
              "      <td>None</td>\n",
              "      <td>None</td>\n",
              "      <td>None</td>\n",
              "      <td>https://github.com/fickas/anl_test_repo/issues/1</td>\n",
              "    </tr>\n",
              "    <tr>\n",
              "      <th>1</th>\n",
              "      <td>30</td>\n",
              "      <td>anl_test_repo</td>\n",
              "      <td>2021-07-30 21:43:15</td>\n",
              "      <td>https://github.com/fickas/anl_test_repo.git</td>\n",
              "      <td>None</td>\n",
              "      <td>None</td>\n",
              "      <td>7294</td>\n",
              "      <td>Bang bug - finally into main</td>\n",
              "      <td></td>\n",
              "      <td>2021-07-29 21:14:13</td>\n",
              "      <td>2021-07-26 17:17:16</td>\n",
              "      <td>0</td>\n",
              "      <td>https://github.com/fickas/anl_test_repo/pull/4</td>\n",
              "      <td>4</td>\n",
              "      <td>MERGED</td>\n",
              "      <td>2021-07-26 17:18:06</td>\n",
              "      <td>09d8d646e114b4a68bd2f216b8f036b1c60356f4</td>\n",
              "      <td>3729</td>\n",
              "      <td>fickas</td>\n",
              "      <td>None</td>\n",
              "      <td>None</td>\n",
              "      <td>https://github.com/fickas</td>\n",
              "      <td>None</td>\n",
              "      <td>None</td>\n",
              "      <td>None</td>\n",
              "      <td>None</td>\n",
              "      <td>None</td>\n",
              "      <td>None</td>\n",
              "      <td>None</td>\n",
              "      <td>None</td>\n",
              "      <td>None</td>\n",
              "      <td>NaN</td>\n",
              "      <td>None</td>\n",
              "      <td>None</td>\n",
              "      <td>None</td>\n",
              "      <td>None</td>\n",
              "      <td>32505</td>\n",
              "      <td>09d8d646e114b4a68bd2f216b8f036b1c60356f4</td>\n",
              "      <td>NaN</td>\n",
              "      <td>NaT</td>\n",
              "      <td>NaT</td>\n",
              "      <td>None</td>\n",
              "      <td>NaN</td>\n",
              "      <td>None</td>\n",
              "      <td>None</td>\n",
              "      <td>None</td>\n",
              "      <td>None</td>\n",
              "      <td>https://github.com/fickas/anl_test_repo/issues/1</td>\n",
              "    </tr>\n",
              "    <tr>\n",
              "      <th>2</th>\n",
              "      <td>30</td>\n",
              "      <td>anl_test_repo</td>\n",
              "      <td>2021-07-30 21:43:15</td>\n",
              "      <td>https://github.com/fickas/anl_test_repo.git</td>\n",
              "      <td>None</td>\n",
              "      <td>None</td>\n",
              "      <td>7295</td>\n",
              "      <td>Goodbye enhancement to development</td>\n",
              "      <td></td>\n",
              "      <td>2021-07-29 18:22:14</td>\n",
              "      <td>2021-07-29 18:21:48</td>\n",
              "      <td>0</td>\n",
              "      <td>https://github.com/fickas/anl_test_repo/pull/7</td>\n",
              "      <td>7</td>\n",
              "      <td>MERGED</td>\n",
              "      <td>2021-07-29 18:22:14</td>\n",
              "      <td>b6a43f27d7594c5a672f6e48cf0760773d09cb87</td>\n",
              "      <td>3729</td>\n",
              "      <td>fickas</td>\n",
              "      <td>None</td>\n",
              "      <td>None</td>\n",
              "      <td>https://github.com/fickas</td>\n",
              "      <td>None</td>\n",
              "      <td>None</td>\n",
              "      <td>None</td>\n",
              "      <td>None</td>\n",
              "      <td>None</td>\n",
              "      <td>None</td>\n",
              "      <td>None</td>\n",
              "      <td>None</td>\n",
              "      <td>None</td>\n",
              "      <td>NaN</td>\n",
              "      <td>None</td>\n",
              "      <td>None</td>\n",
              "      <td>None</td>\n",
              "      <td>None</td>\n",
              "      <td>32506</td>\n",
              "      <td>67dd6268097a7a945d15b7574b794e6c8dad5e6e</td>\n",
              "      <td>NaN</td>\n",
              "      <td>NaT</td>\n",
              "      <td>NaT</td>\n",
              "      <td>None</td>\n",
              "      <td>NaN</td>\n",
              "      <td>None</td>\n",
              "      <td>None</td>\n",
              "      <td>None</td>\n",
              "      <td>None</td>\n",
              "      <td>https://github.com/fickas/anl_test_repo/issues/6</td>\n",
              "    </tr>\n",
              "    <tr>\n",
              "      <th>3</th>\n",
              "      <td>30</td>\n",
              "      <td>anl_test_repo</td>\n",
              "      <td>2021-07-30 21:43:15</td>\n",
              "      <td>https://github.com/fickas/anl_test_repo.git</td>\n",
              "      <td>None</td>\n",
              "      <td>None</td>\n",
              "      <td>7295</td>\n",
              "      <td>Goodbye enhancement to development</td>\n",
              "      <td></td>\n",
              "      <td>2021-07-29 18:22:14</td>\n",
              "      <td>2021-07-29 18:21:48</td>\n",
              "      <td>0</td>\n",
              "      <td>https://github.com/fickas/anl_test_repo/pull/7</td>\n",
              "      <td>7</td>\n",
              "      <td>MERGED</td>\n",
              "      <td>2021-07-29 18:22:14</td>\n",
              "      <td>b6a43f27d7594c5a672f6e48cf0760773d09cb87</td>\n",
              "      <td>3729</td>\n",
              "      <td>fickas</td>\n",
              "      <td>None</td>\n",
              "      <td>None</td>\n",
              "      <td>https://github.com/fickas</td>\n",
              "      <td>None</td>\n",
              "      <td>None</td>\n",
              "      <td>None</td>\n",
              "      <td>None</td>\n",
              "      <td>None</td>\n",
              "      <td>None</td>\n",
              "      <td>None</td>\n",
              "      <td>None</td>\n",
              "      <td>None</td>\n",
              "      <td>NaN</td>\n",
              "      <td>None</td>\n",
              "      <td>None</td>\n",
              "      <td>None</td>\n",
              "      <td>None</td>\n",
              "      <td>32507</td>\n",
              "      <td>084c98c23b10309c29a8f9a12d681cfbd29bd986</td>\n",
              "      <td>NaN</td>\n",
              "      <td>NaT</td>\n",
              "      <td>NaT</td>\n",
              "      <td>None</td>\n",
              "      <td>NaN</td>\n",
              "      <td>None</td>\n",
              "      <td>None</td>\n",
              "      <td>None</td>\n",
              "      <td>None</td>\n",
              "      <td>https://github.com/fickas/anl_test_repo/issues/6</td>\n",
              "    </tr>\n",
              "    <tr>\n",
              "      <th>4</th>\n",
              "      <td>30</td>\n",
              "      <td>anl_test_repo</td>\n",
              "      <td>2021-07-30 21:43:15</td>\n",
              "      <td>https://github.com/fickas/anl_test_repo.git</td>\n",
              "      <td>None</td>\n",
              "      <td>None</td>\n",
              "      <td>7295</td>\n",
              "      <td>Goodbye enhancement to development</td>\n",
              "      <td></td>\n",
              "      <td>2021-07-29 18:22:14</td>\n",
              "      <td>2021-07-29 18:21:48</td>\n",
              "      <td>0</td>\n",
              "      <td>https://github.com/fickas/anl_test_repo/pull/7</td>\n",
              "      <td>7</td>\n",
              "      <td>MERGED</td>\n",
              "      <td>2021-07-29 18:22:14</td>\n",
              "      <td>b6a43f27d7594c5a672f6e48cf0760773d09cb87</td>\n",
              "      <td>3729</td>\n",
              "      <td>fickas</td>\n",
              "      <td>None</td>\n",
              "      <td>None</td>\n",
              "      <td>https://github.com/fickas</td>\n",
              "      <td>None</td>\n",
              "      <td>None</td>\n",
              "      <td>None</td>\n",
              "      <td>None</td>\n",
              "      <td>None</td>\n",
              "      <td>None</td>\n",
              "      <td>None</td>\n",
              "      <td>None</td>\n",
              "      <td>None</td>\n",
              "      <td>NaN</td>\n",
              "      <td>None</td>\n",
              "      <td>None</td>\n",
              "      <td>None</td>\n",
              "      <td>None</td>\n",
              "      <td>32508</td>\n",
              "      <td>b6a43f27d7594c5a672f6e48cf0760773d09cb87</td>\n",
              "      <td>NaN</td>\n",
              "      <td>NaT</td>\n",
              "      <td>NaT</td>\n",
              "      <td>None</td>\n",
              "      <td>NaN</td>\n",
              "      <td>None</td>\n",
              "      <td>None</td>\n",
              "      <td>None</td>\n",
              "      <td>None</td>\n",
              "      <td>https://github.com/fickas/anl_test_repo/issues/6</td>\n",
              "    </tr>\n",
              "  </tbody>\n",
              "</table>\n",
              "</div>"
            ],
            "text/plain": [
              "   project_id  ...                                  linked_issue_url\n",
              "0          30  ...  https://github.com/fickas/anl_test_repo/issues/1\n",
              "1          30  ...  https://github.com/fickas/anl_test_repo/issues/1\n",
              "2          30  ...  https://github.com/fickas/anl_test_repo/issues/6\n",
              "3          30  ...  https://github.com/fickas/anl_test_repo/issues/6\n",
              "4          30  ...  https://github.com/fickas/anl_test_repo/issues/6\n",
              "\n",
              "[5 rows x 48 columns]"
            ]
          },
          "metadata": {},
          "execution_count": 54
        }
      ]
    },
    {
      "cell_type": "markdown",
      "metadata": {
        "id": "WyWBjRWza2vX"
      },
      "source": [
        "## Issues"
      ]
    },
    {
      "cell_type": "code",
      "metadata": {
        "colab": {
          "base_uri": "https://localhost:8080/"
        },
        "id": "JA79z3VWwfTW",
        "outputId": "91ea1857-cc21-42bb-f292-d4e86be160a3"
      },
      "source": [
        "issue_df.shape"
      ],
      "execution_count": 55,
      "outputs": [
        {
          "output_type": "execute_result",
          "data": {
            "text/plain": [
              "(4, 43)"
            ]
          },
          "metadata": {},
          "execution_count": 55
        }
      ]
    },
    {
      "cell_type": "code",
      "metadata": {
        "colab": {
          "base_uri": "https://localhost:8080/"
        },
        "id": "43_9Shvywhlh",
        "outputId": "529275ed-a47a-4b25-9a24-297333d5b464"
      },
      "source": [
        "issue_df.columns"
      ],
      "execution_count": 56,
      "outputs": [
        {
          "output_type": "execute_result",
          "data": {
            "text/plain": [
              "Index(['project_id', 'project_name', 'project_last_updated',\n",
              "       'project_source_url', 'project_fork_of_id', 'project_child_of_id',\n",
              "       'issue_id', 'issue_title', 'issue_description', 'issue_created_at',\n",
              "       'issue_updated_at', 'issue_closed_at', 'issue_locked', 'issue_state',\n",
              "       'issue_url', 'issue_number', 'issue_author_username',\n",
              "       'issue_author_email', 'issue_author_name', 'issue_author_url',\n",
              "       'milestone_id', 'milestone_title', 'milestone_description',\n",
              "       'milestone_state', 'milestone_due_on', 'milestone_created_at',\n",
              "       'milestone_updated_at', 'issue_label_id', 'issue_label',\n",
              "       'issue_assignee_id', 'issue_assignee_name', 'issue_assignee_url',\n",
              "       'issue_assignee_username', 'issue_assignee_email', 'issue_comment_id',\n",
              "       'issue_comment_created_at', 'issue_comment_updated_at',\n",
              "       'issue_comment_body', 'issue_comment_author_id',\n",
              "       'issue_comment_author_name', 'issue_comment_author_url',\n",
              "       'issue_comment_author_username', 'issue_comment_author_email'],\n",
              "      dtype='object')"
            ]
          },
          "metadata": {},
          "execution_count": 56
        }
      ]
    },
    {
      "cell_type": "code",
      "metadata": {
        "colab": {
          "base_uri": "https://localhost:8080/",
          "height": 261
        },
        "id": "L1JHrj0uwjCu",
        "outputId": "b32cecad-99c3-4ff1-ca07-6817a1129c0e"
      },
      "source": [
        "issue_df.head()"
      ],
      "execution_count": 57,
      "outputs": [
        {
          "output_type": "execute_result",
          "data": {
            "text/html": [
              "<div>\n",
              "<style scoped>\n",
              "    .dataframe tbody tr th:only-of-type {\n",
              "        vertical-align: middle;\n",
              "    }\n",
              "\n",
              "    .dataframe tbody tr th {\n",
              "        vertical-align: top;\n",
              "    }\n",
              "\n",
              "    .dataframe thead th {\n",
              "        text-align: right;\n",
              "    }\n",
              "</style>\n",
              "<table border=\"1\" class=\"dataframe\">\n",
              "  <thead>\n",
              "    <tr style=\"text-align: right;\">\n",
              "      <th></th>\n",
              "      <th>project_id</th>\n",
              "      <th>project_name</th>\n",
              "      <th>project_last_updated</th>\n",
              "      <th>project_source_url</th>\n",
              "      <th>project_fork_of_id</th>\n",
              "      <th>project_child_of_id</th>\n",
              "      <th>issue_id</th>\n",
              "      <th>issue_title</th>\n",
              "      <th>issue_description</th>\n",
              "      <th>issue_created_at</th>\n",
              "      <th>issue_updated_at</th>\n",
              "      <th>issue_closed_at</th>\n",
              "      <th>issue_locked</th>\n",
              "      <th>issue_state</th>\n",
              "      <th>issue_url</th>\n",
              "      <th>issue_number</th>\n",
              "      <th>issue_author_username</th>\n",
              "      <th>issue_author_email</th>\n",
              "      <th>issue_author_name</th>\n",
              "      <th>issue_author_url</th>\n",
              "      <th>milestone_id</th>\n",
              "      <th>milestone_title</th>\n",
              "      <th>milestone_description</th>\n",
              "      <th>milestone_state</th>\n",
              "      <th>milestone_due_on</th>\n",
              "      <th>milestone_created_at</th>\n",
              "      <th>milestone_updated_at</th>\n",
              "      <th>issue_label_id</th>\n",
              "      <th>issue_label</th>\n",
              "      <th>issue_assignee_id</th>\n",
              "      <th>issue_assignee_name</th>\n",
              "      <th>issue_assignee_url</th>\n",
              "      <th>issue_assignee_username</th>\n",
              "      <th>issue_assignee_email</th>\n",
              "      <th>issue_comment_id</th>\n",
              "      <th>issue_comment_created_at</th>\n",
              "      <th>issue_comment_updated_at</th>\n",
              "      <th>issue_comment_body</th>\n",
              "      <th>issue_comment_author_id</th>\n",
              "      <th>issue_comment_author_name</th>\n",
              "      <th>issue_comment_author_url</th>\n",
              "      <th>issue_comment_author_username</th>\n",
              "      <th>issue_comment_author_email</th>\n",
              "    </tr>\n",
              "  </thead>\n",
              "  <tbody>\n",
              "    <tr>\n",
              "      <th>0</th>\n",
              "      <td>30</td>\n",
              "      <td>anl_test_repo</td>\n",
              "      <td>2021-07-30 21:43:15</td>\n",
              "      <td>https://github.com/fickas/anl_test_repo.git</td>\n",
              "      <td>None</td>\n",
              "      <td>None</td>\n",
              "      <td>3509</td>\n",
              "      <td>Missing bang</td>\n",
              "      <td>Add exclamation point to hello function.</td>\n",
              "      <td>2021-07-26 17:08:57</td>\n",
              "      <td>2021-07-26 17:18:07</td>\n",
              "      <td>2021-07-26 17:18:07</td>\n",
              "      <td>0</td>\n",
              "      <td>CLOSED</td>\n",
              "      <td>https://github.com/fickas/anl_test_repo/issues/1</td>\n",
              "      <td>1</td>\n",
              "      <td>fickas</td>\n",
              "      <td>None</td>\n",
              "      <td>None</td>\n",
              "      <td>https://github.com/fickas</td>\n",
              "      <td>None</td>\n",
              "      <td>None</td>\n",
              "      <td>None</td>\n",
              "      <td>None</td>\n",
              "      <td>None</td>\n",
              "      <td>None</td>\n",
              "      <td>None</td>\n",
              "      <td>45</td>\n",
              "      <td>bug</td>\n",
              "      <td>3729.0</td>\n",
              "      <td>None</td>\n",
              "      <td>https://github.com/fickas</td>\n",
              "      <td>fickas</td>\n",
              "      <td>None</td>\n",
              "      <td>None</td>\n",
              "      <td>None</td>\n",
              "      <td>None</td>\n",
              "      <td>None</td>\n",
              "      <td>None</td>\n",
              "      <td>None</td>\n",
              "      <td>None</td>\n",
              "      <td>None</td>\n",
              "      <td>None</td>\n",
              "    </tr>\n",
              "    <tr>\n",
              "      <th>1</th>\n",
              "      <td>30</td>\n",
              "      <td>anl_test_repo</td>\n",
              "      <td>2021-07-30 21:43:15</td>\n",
              "      <td>https://github.com/fickas/anl_test_repo.git</td>\n",
              "      <td>None</td>\n",
              "      <td>None</td>\n",
              "      <td>3510</td>\n",
              "      <td>Add a second bang</td>\n",
              "      <td>hello should have two !!</td>\n",
              "      <td>2021-07-29 18:16:13</td>\n",
              "      <td>2021-07-29 18:16:13</td>\n",
              "      <td>2021-08-24 18:23:05</td>\n",
              "      <td>0</td>\n",
              "      <td>OPEN</td>\n",
              "      <td>https://github.com/fickas/anl_test_repo/issues/5</td>\n",
              "      <td>5</td>\n",
              "      <td>fickas</td>\n",
              "      <td>None</td>\n",
              "      <td>None</td>\n",
              "      <td>https://github.com/fickas</td>\n",
              "      <td>None</td>\n",
              "      <td>None</td>\n",
              "      <td>None</td>\n",
              "      <td>None</td>\n",
              "      <td>None</td>\n",
              "      <td>None</td>\n",
              "      <td>None</td>\n",
              "      <td>45</td>\n",
              "      <td>bug</td>\n",
              "      <td>NaN</td>\n",
              "      <td>None</td>\n",
              "      <td>None</td>\n",
              "      <td>None</td>\n",
              "      <td>None</td>\n",
              "      <td>None</td>\n",
              "      <td>None</td>\n",
              "      <td>None</td>\n",
              "      <td>None</td>\n",
              "      <td>None</td>\n",
              "      <td>None</td>\n",
              "      <td>None</td>\n",
              "      <td>None</td>\n",
              "      <td>None</td>\n",
              "    </tr>\n",
              "    <tr>\n",
              "      <th>2</th>\n",
              "      <td>30</td>\n",
              "      <td>anl_test_repo</td>\n",
              "      <td>2021-07-30 21:43:15</td>\n",
              "      <td>https://github.com/fickas/anl_test_repo.git</td>\n",
              "      <td>None</td>\n",
              "      <td>None</td>\n",
              "      <td>3511</td>\n",
              "      <td>New function goodbye</td>\n",
              "      <td>Add a function goodbye.</td>\n",
              "      <td>2021-07-29 18:18:58</td>\n",
              "      <td>2021-07-29 18:18:58</td>\n",
              "      <td>2021-08-24 18:23:05</td>\n",
              "      <td>0</td>\n",
              "      <td>OPEN</td>\n",
              "      <td>https://github.com/fickas/anl_test_repo/issues/6</td>\n",
              "      <td>6</td>\n",
              "      <td>fickas</td>\n",
              "      <td>None</td>\n",
              "      <td>None</td>\n",
              "      <td>https://github.com/fickas</td>\n",
              "      <td>None</td>\n",
              "      <td>None</td>\n",
              "      <td>None</td>\n",
              "      <td>None</td>\n",
              "      <td>None</td>\n",
              "      <td>None</td>\n",
              "      <td>None</td>\n",
              "      <td>46</td>\n",
              "      <td>enhancement</td>\n",
              "      <td>NaN</td>\n",
              "      <td>None</td>\n",
              "      <td>None</td>\n",
              "      <td>None</td>\n",
              "      <td>None</td>\n",
              "      <td>None</td>\n",
              "      <td>None</td>\n",
              "      <td>None</td>\n",
              "      <td>None</td>\n",
              "      <td>None</td>\n",
              "      <td>None</td>\n",
              "      <td>None</td>\n",
              "      <td>None</td>\n",
              "      <td>None</td>\n",
              "    </tr>\n",
              "    <tr>\n",
              "      <th>3</th>\n",
              "      <td>30</td>\n",
              "      <td>anl_test_repo</td>\n",
              "      <td>2021-07-30 21:43:15</td>\n",
              "      <td>https://github.com/fickas/anl_test_repo.git</td>\n",
              "      <td>None</td>\n",
              "      <td>None</td>\n",
              "      <td>3512</td>\n",
              "      <td>add going_to_lunch</td>\n",
              "      <td>add new function</td>\n",
              "      <td>2021-07-29 18:24:29</td>\n",
              "      <td>2021-07-29 18:24:29</td>\n",
              "      <td>2021-08-24 18:23:05</td>\n",
              "      <td>0</td>\n",
              "      <td>OPEN</td>\n",
              "      <td>https://github.com/fickas/anl_test_repo/issues/9</td>\n",
              "      <td>9</td>\n",
              "      <td>fickas</td>\n",
              "      <td>None</td>\n",
              "      <td>None</td>\n",
              "      <td>https://github.com/fickas</td>\n",
              "      <td>None</td>\n",
              "      <td>None</td>\n",
              "      <td>None</td>\n",
              "      <td>None</td>\n",
              "      <td>None</td>\n",
              "      <td>None</td>\n",
              "      <td>None</td>\n",
              "      <td>46</td>\n",
              "      <td>enhancement</td>\n",
              "      <td>NaN</td>\n",
              "      <td>None</td>\n",
              "      <td>None</td>\n",
              "      <td>None</td>\n",
              "      <td>None</td>\n",
              "      <td>None</td>\n",
              "      <td>None</td>\n",
              "      <td>None</td>\n",
              "      <td>None</td>\n",
              "      <td>None</td>\n",
              "      <td>None</td>\n",
              "      <td>None</td>\n",
              "      <td>None</td>\n",
              "      <td>None</td>\n",
              "    </tr>\n",
              "  </tbody>\n",
              "</table>\n",
              "</div>"
            ],
            "text/plain": [
              "   project_id  ... issue_comment_author_email\n",
              "0          30  ...                       None\n",
              "1          30  ...                       None\n",
              "2          30  ...                       None\n",
              "3          30  ...                       None\n",
              "\n",
              "[4 rows x 43 columns]"
            ]
          },
          "metadata": {},
          "execution_count": 57
        }
      ]
    },
    {
      "cell_type": "markdown",
      "metadata": {
        "id": "zUTXzacd4GV7"
      },
      "source": [
        "## Events"
      ]
    },
    {
      "cell_type": "code",
      "metadata": {
        "colab": {
          "base_uri": "https://localhost:8080/"
        },
        "id": "dJDKaoIh4IzJ",
        "outputId": "ae9ec5a1-a18f-4a6e-a878-5edd03d8e9b8"
      },
      "source": [
        "event_df.shape"
      ],
      "execution_count": 58,
      "outputs": [
        {
          "output_type": "execute_result",
          "data": {
            "text/plain": [
              "(0, 51)"
            ]
          },
          "metadata": {},
          "execution_count": 58
        }
      ]
    },
    {
      "cell_type": "code",
      "metadata": {
        "colab": {
          "base_uri": "https://localhost:8080/"
        },
        "id": "oq_Rilzq4KRq",
        "outputId": "61c53e44-b2c1-4ce8-c11e-d79a3cf30384"
      },
      "source": [
        "event_df.columns"
      ],
      "execution_count": 59,
      "outputs": [
        {
          "output_type": "execute_result",
          "data": {
            "text/plain": [
              "Index(['project_id', 'project_url', 'project_name', 'project_last_updated',\n",
              "       'event_id', 'event_api_id', 'event_type', 'event_public',\n",
              "       'event_created_at', 'event_actor_id', 'event_actor_api_id',\n",
              "       'event_actor_login', 'event_actor_url', 'event_actor_avatar_url',\n",
              "       'event_actor_gravatar_id', 'event_org_id', 'event_org_api_id',\n",
              "       'event_org_login', 'event_org_url', 'event_org_avatar_url',\n",
              "       'event_org_gravatar_id', 'event_repo_id', 'event_repo_api_id',\n",
              "       'event_repo_name', 'event_repo_url', 'event_payload_id',\n",
              "       'event_payload_action', 'event_payload_ref', 'event_payload_ref_type',\n",
              "       'event_payload_master_branch', 'event_payload_description',\n",
              "       'event_payload_forkee_url', 'event_payload_issue_url',\n",
              "       'event_payload_comment_url', 'event_payload_member_login',\n",
              "       'event_payload_pr_number', 'event_payload_pr_url',\n",
              "       'event_payload_pr_review_url', 'event_payload_push_id',\n",
              "       'event_payload_size', 'event_payload_distinct_size',\n",
              "       'event_payload_head_sha', 'event_payload_before_sha',\n",
              "       'event_payload_release_url', 'event_payload_effective_date',\n",
              "       'event_page_id', 'event_page_name', 'event_page_title',\n",
              "       'event_page_action', 'event_page_sha', 'event_page_url'],\n",
              "      dtype='object')"
            ]
          },
          "metadata": {},
          "execution_count": 59
        }
      ]
    },
    {
      "cell_type": "code",
      "metadata": {
        "colab": {
          "base_uri": "https://localhost:8080/",
          "height": 0
        },
        "id": "g3XrO55W4MVK",
        "outputId": "592488a3-1beb-43e2-b556-87dd910bfdcb"
      },
      "source": [
        "event_df.head()"
      ],
      "execution_count": 60,
      "outputs": [
        {
          "output_type": "execute_result",
          "data": {
            "text/html": [
              "<div>\n",
              "<style scoped>\n",
              "    .dataframe tbody tr th:only-of-type {\n",
              "        vertical-align: middle;\n",
              "    }\n",
              "\n",
              "    .dataframe tbody tr th {\n",
              "        vertical-align: top;\n",
              "    }\n",
              "\n",
              "    .dataframe thead th {\n",
              "        text-align: right;\n",
              "    }\n",
              "</style>\n",
              "<table border=\"1\" class=\"dataframe\">\n",
              "  <thead>\n",
              "    <tr style=\"text-align: right;\">\n",
              "      <th></th>\n",
              "      <th>project_id</th>\n",
              "      <th>project_url</th>\n",
              "      <th>project_name</th>\n",
              "      <th>project_last_updated</th>\n",
              "      <th>event_id</th>\n",
              "      <th>event_api_id</th>\n",
              "      <th>event_type</th>\n",
              "      <th>event_public</th>\n",
              "      <th>event_created_at</th>\n",
              "      <th>event_actor_id</th>\n",
              "      <th>event_actor_api_id</th>\n",
              "      <th>event_actor_login</th>\n",
              "      <th>event_actor_url</th>\n",
              "      <th>event_actor_avatar_url</th>\n",
              "      <th>event_actor_gravatar_id</th>\n",
              "      <th>event_org_id</th>\n",
              "      <th>event_org_api_id</th>\n",
              "      <th>event_org_login</th>\n",
              "      <th>event_org_url</th>\n",
              "      <th>event_org_avatar_url</th>\n",
              "      <th>event_org_gravatar_id</th>\n",
              "      <th>event_repo_id</th>\n",
              "      <th>event_repo_api_id</th>\n",
              "      <th>event_repo_name</th>\n",
              "      <th>event_repo_url</th>\n",
              "      <th>event_payload_id</th>\n",
              "      <th>event_payload_action</th>\n",
              "      <th>event_payload_ref</th>\n",
              "      <th>event_payload_ref_type</th>\n",
              "      <th>event_payload_master_branch</th>\n",
              "      <th>event_payload_description</th>\n",
              "      <th>event_payload_forkee_url</th>\n",
              "      <th>event_payload_issue_url</th>\n",
              "      <th>event_payload_comment_url</th>\n",
              "      <th>event_payload_member_login</th>\n",
              "      <th>event_payload_pr_number</th>\n",
              "      <th>event_payload_pr_url</th>\n",
              "      <th>event_payload_pr_review_url</th>\n",
              "      <th>event_payload_push_id</th>\n",
              "      <th>event_payload_size</th>\n",
              "      <th>event_payload_distinct_size</th>\n",
              "      <th>event_payload_head_sha</th>\n",
              "      <th>event_payload_before_sha</th>\n",
              "      <th>event_payload_release_url</th>\n",
              "      <th>event_payload_effective_date</th>\n",
              "      <th>event_page_id</th>\n",
              "      <th>event_page_name</th>\n",
              "      <th>event_page_title</th>\n",
              "      <th>event_page_action</th>\n",
              "      <th>event_page_sha</th>\n",
              "      <th>event_page_url</th>\n",
              "    </tr>\n",
              "  </thead>\n",
              "  <tbody>\n",
              "  </tbody>\n",
              "</table>\n",
              "</div>"
            ],
            "text/plain": [
              "Empty DataFrame\n",
              "Columns: [project_id, project_url, project_name, project_last_updated, event_id, event_api_id, event_type, event_public, event_created_at, event_actor_id, event_actor_api_id, event_actor_login, event_actor_url, event_actor_avatar_url, event_actor_gravatar_id, event_org_id, event_org_api_id, event_org_login, event_org_url, event_org_avatar_url, event_org_gravatar_id, event_repo_id, event_repo_api_id, event_repo_name, event_repo_url, event_payload_id, event_payload_action, event_payload_ref, event_payload_ref_type, event_payload_master_branch, event_payload_description, event_payload_forkee_url, event_payload_issue_url, event_payload_comment_url, event_payload_member_login, event_payload_pr_number, event_payload_pr_url, event_payload_pr_review_url, event_payload_push_id, event_payload_size, event_payload_distinct_size, event_payload_head_sha, event_payload_before_sha, event_payload_release_url, event_payload_effective_date, event_page_id, event_page_name, event_page_title, event_page_action, event_page_sha, event_page_url]\n",
              "Index: []"
            ]
          },
          "metadata": {},
          "execution_count": 60
        }
      ]
    },
    {
      "cell_type": "markdown",
      "metadata": {
        "id": "bhefuza6Ysup"
      },
      "source": [
        "# Functions\n"
      ]
    },
    {
      "cell_type": "markdown",
      "metadata": {
        "id": "EHslkNZwi8TF"
      },
      "source": [
        "## View Events History\n"
      ]
    },
    {
      "cell_type": "code",
      "metadata": {
        "id": "kzSsxd6Ui-fr"
      },
      "source": [
        "def view_event_history(event_df, first=100):\n",
        "    payload_cols = [col for col in event_df if col.startswith('event_payload')]\n",
        "    for i, (_, row) in enumerate(event_df.sort_values('event_created_at', ascending=False).iterrows()):\n",
        "        if i == first:\n",
        "            break \n",
        "        print(row['event_id'], row['event_type'], row['event_created_at'])\n",
        "        for col in payload_cols:\n",
        "            if row[col] and not pd.isnull(row[col]):\n",
        "                print(f'\\t{col}: {row[col]}')\n",
        "        print('-'*80)"
      ],
      "execution_count": 61,
      "outputs": []
    },
    {
      "cell_type": "code",
      "metadata": {
        "id": "RuFz2w3mjHVu"
      },
      "source": [
        "view_event_history(event_df)"
      ],
      "execution_count": 86,
      "outputs": []
    },
    {
      "cell_type": "markdown",
      "metadata": {
        "id": "RBHOl3tWYvUQ"
      },
      "source": [
        "## List Open Issues"
      ]
    },
    {
      "cell_type": "code",
      "metadata": {
        "id": "HoI8GFdtYz2e"
      },
      "source": [
        "def list_open_issues(issue_df):\n",
        "    issue_df = issue_df.drop_duplicates(subset=['issue_label_id'])\n",
        "    \n",
        "    issue_df = issue_df.query('issue_state == \"OPEN\"')\n",
        "    issue_df = issue_df[['issue_id', 'issue_title', 'issue_description', 'issue_label',\n",
        "             'issue_author_username', 'issue_author_email', 'issue_author_name', 'issue_author_url',\n",
        "             'issue_assignee_username', 'issue_assignee_email', 'issue_assignee_name', 'issue_assignee_url']]\n",
        "    issue_df['infer_bug'] = 'bug' in issue_df['issue_title'].str.lower() or 'bug' in issue_df['issue_description'].str.lower()\n",
        "    issue_df = issue_df.reset_index(drop=True)\n",
        "    return issue_df"
      ],
      "execution_count": 63,
      "outputs": []
    },
    {
      "cell_type": "code",
      "metadata": {
        "colab": {
          "base_uri": "https://localhost:8080/",
          "height": 117
        },
        "id": "UVqvhoIoZAhw",
        "outputId": "17174391-33f6-4537-b124-232d3f070ab9"
      },
      "source": [
        "list_open_issues(issue_df)"
      ],
      "execution_count": 64,
      "outputs": [
        {
          "output_type": "execute_result",
          "data": {
            "text/html": [
              "<div>\n",
              "<style scoped>\n",
              "    .dataframe tbody tr th:only-of-type {\n",
              "        vertical-align: middle;\n",
              "    }\n",
              "\n",
              "    .dataframe tbody tr th {\n",
              "        vertical-align: top;\n",
              "    }\n",
              "\n",
              "    .dataframe thead th {\n",
              "        text-align: right;\n",
              "    }\n",
              "</style>\n",
              "<table border=\"1\" class=\"dataframe\">\n",
              "  <thead>\n",
              "    <tr style=\"text-align: right;\">\n",
              "      <th></th>\n",
              "      <th>issue_id</th>\n",
              "      <th>issue_title</th>\n",
              "      <th>issue_description</th>\n",
              "      <th>issue_label</th>\n",
              "      <th>issue_author_username</th>\n",
              "      <th>issue_author_email</th>\n",
              "      <th>issue_author_name</th>\n",
              "      <th>issue_author_url</th>\n",
              "      <th>issue_assignee_username</th>\n",
              "      <th>issue_assignee_email</th>\n",
              "      <th>issue_assignee_name</th>\n",
              "      <th>issue_assignee_url</th>\n",
              "      <th>infer_bug</th>\n",
              "    </tr>\n",
              "  </thead>\n",
              "  <tbody>\n",
              "    <tr>\n",
              "      <th>0</th>\n",
              "      <td>3511</td>\n",
              "      <td>New function goodbye</td>\n",
              "      <td>Add a function goodbye.</td>\n",
              "      <td>enhancement</td>\n",
              "      <td>fickas</td>\n",
              "      <td>None</td>\n",
              "      <td>None</td>\n",
              "      <td>https://github.com/fickas</td>\n",
              "      <td>None</td>\n",
              "      <td>None</td>\n",
              "      <td>None</td>\n",
              "      <td>None</td>\n",
              "      <td>False</td>\n",
              "    </tr>\n",
              "  </tbody>\n",
              "</table>\n",
              "</div>"
            ],
            "text/plain": [
              "   issue_id           issue_title  ... issue_assignee_url infer_bug\n",
              "0      3511  New function goodbye  ...               None     False\n",
              "\n",
              "[1 rows x 13 columns]"
            ]
          },
          "metadata": {},
          "execution_count": 64
        }
      ]
    },
    {
      "cell_type": "markdown",
      "metadata": {
        "id": "5MHcHwp1dIbR"
      },
      "source": [
        "## Developer Info"
      ]
    },
    {
      "cell_type": "code",
      "metadata": {
        "id": "ELBOnpaodT21"
      },
      "source": [
        "def get_developer_info(username, pr_df, issue_df, commit_df):\n",
        "    pr_df = pr_df.query(f'pr_author_username == \"{username}\" and pr_state == \"OPEN\"')\n",
        "    pr_df = pr_df.drop_duplicates(subset=['pr_id'])\n",
        "    pr_df = pr_df[['pr_id', 'pr_title', 'pr_description', 'pr_sha']]\n",
        "    issue_df = issue_df.query(f'issue_author_username == \"{username}\" and issue_state == \"OPEN\"')\n",
        "    issue_df = issue_df.drop_duplicates(subset=['issue_id'])\n",
        "    issue_df = issue_df[['issue_id', 'issue_title', 'issue_description']]\n",
        "    pr_df = pr_df.reset_index(drop=True)\n",
        "    issue_df = issue_df.reset_index(drop=True)\n",
        "    return pr_df, issue_df"
      ],
      "execution_count": 65,
      "outputs": []
    },
    {
      "cell_type": "code",
      "metadata": {
        "id": "mGMpHlISelK3"
      },
      "source": [
        "dev_pr_df, dev_issue_df = get_developer_info('fickas', pr_df, issue_df, commit_df)"
      ],
      "execution_count": 84,
      "outputs": []
    },
    {
      "cell_type": "code",
      "metadata": {
        "colab": {
          "base_uri": "https://localhost:8080/",
          "height": 80
        },
        "id": "LFikNwW_gByj",
        "outputId": "5e08ca44-48a7-4340-cd50-7c2446e513fd"
      },
      "source": [
        "dev_pr_df"
      ],
      "execution_count": 85,
      "outputs": [
        {
          "output_type": "execute_result",
          "data": {
            "text/html": [
              "<div>\n",
              "<style scoped>\n",
              "    .dataframe tbody tr th:only-of-type {\n",
              "        vertical-align: middle;\n",
              "    }\n",
              "\n",
              "    .dataframe tbody tr th {\n",
              "        vertical-align: top;\n",
              "    }\n",
              "\n",
              "    .dataframe thead th {\n",
              "        text-align: right;\n",
              "    }\n",
              "</style>\n",
              "<table border=\"1\" class=\"dataframe\">\n",
              "  <thead>\n",
              "    <tr style=\"text-align: right;\">\n",
              "      <th></th>\n",
              "      <th>pr_id</th>\n",
              "      <th>pr_title</th>\n",
              "      <th>pr_description</th>\n",
              "      <th>pr_sha</th>\n",
              "    </tr>\n",
              "  </thead>\n",
              "  <tbody>\n",
              "    <tr>\n",
              "      <th>0</th>\n",
              "      <td>7297</td>\n",
              "      <td>Update test_file.py</td>\n",
              "      <td>Added going to lunch.</td>\n",
              "      <td>f89edf704d5bb032a3e5195b2bb199bc511c941f</td>\n",
              "    </tr>\n",
              "  </tbody>\n",
              "</table>\n",
              "</div>"
            ],
            "text/plain": [
              "   pr_id  ...                                    pr_sha\n",
              "0   7297  ...  f89edf704d5bb032a3e5195b2bb199bc511c941f\n",
              "\n",
              "[1 rows x 4 columns]"
            ]
          },
          "metadata": {},
          "execution_count": 85
        }
      ]
    },
    {
      "cell_type": "code",
      "metadata": {
        "id": "qYGiyLHnvwU0"
      },
      "source": [
        "# missing commit info?\n",
        "for _, row in dev_pr_df.iterrows():\n",
        "        a = commit_df.query(f'commit_sha == \"{row[\"pr_sha\"]}\"')\n",
        "        display(a)"
      ],
      "execution_count": 68,
      "outputs": []
    },
    {
      "cell_type": "code",
      "metadata": {
        "colab": {
          "base_uri": "https://localhost:8080/",
          "height": 49
        },
        "id": "jv7d8SPVs62K",
        "outputId": "b902ece2-9f55-4caf-9c4b-2647dcd1ecf5"
      },
      "source": [
        "dev_issue_df"
      ],
      "execution_count": 69,
      "outputs": [
        {
          "output_type": "execute_result",
          "data": {
            "text/html": [
              "<div>\n",
              "<style scoped>\n",
              "    .dataframe tbody tr th:only-of-type {\n",
              "        vertical-align: middle;\n",
              "    }\n",
              "\n",
              "    .dataframe tbody tr th {\n",
              "        vertical-align: top;\n",
              "    }\n",
              "\n",
              "    .dataframe thead th {\n",
              "        text-align: right;\n",
              "    }\n",
              "</style>\n",
              "<table border=\"1\" class=\"dataframe\">\n",
              "  <thead>\n",
              "    <tr style=\"text-align: right;\">\n",
              "      <th></th>\n",
              "      <th>issue_id</th>\n",
              "      <th>issue_title</th>\n",
              "      <th>issue_description</th>\n",
              "    </tr>\n",
              "  </thead>\n",
              "  <tbody>\n",
              "  </tbody>\n",
              "</table>\n",
              "</div>"
            ],
            "text/plain": [
              "Empty DataFrame\n",
              "Columns: [issue_id, issue_title, issue_description]\n",
              "Index: []"
            ]
          },
          "metadata": {},
          "execution_count": 69
        }
      ]
    },
    {
      "cell_type": "markdown",
      "metadata": {
        "id": "KR9AxdYCw9YN"
      },
      "source": [
        "## Pairing Commits to Issues"
      ]
    },
    {
      "cell_type": "code",
      "metadata": {
        "id": "ei0vsMoVFAgc"
      },
      "source": [
        "import re"
      ],
      "execution_count": 70,
      "outputs": []
    },
    {
      "cell_type": "code",
      "metadata": {
        "id": "_485yZcOFEAh"
      },
      "source": [
        "pattern1 = re.compile(r'Issue #(\\d+)')"
      ],
      "execution_count": 71,
      "outputs": []
    },
    {
      "cell_type": "code",
      "metadata": {
        "id": "3HVhOn2lMi3_"
      },
      "source": [
        "pattern2 = re.compile(r'^\\(Issue #(\\d+)\\)')"
      ],
      "execution_count": 72,
      "outputs": []
    },
    {
      "cell_type": "code",
      "metadata": {
        "id": "mNFIltScFK8p"
      },
      "source": [
        "df = commit_df[['commit_sha', 'commit_message']].drop_duplicates(subset=['commit_sha']).reset_index(drop=True)"
      ],
      "execution_count": 73,
      "outputs": []
    },
    {
      "cell_type": "code",
      "metadata": {
        "id": "vvoQbprxFRfl"
      },
      "source": [
        "data = [[], [], []]\n",
        "for message in df['commit_message']:\n",
        "    match = re.findall(pattern1, message)\n",
        "    data[0].append(len(match) != 0)\n",
        "    data[1].append(list(set(match)))\n",
        "    strict_match = re.findall(pattern2, message)\n",
        "    data[2].append(len(strict_match) == 1)\n",
        "df['issue_related'] = data[0]\n",
        "df['strict_issue_related'] = data[2]\n",
        "df['issue_numbers'] = data[1]"
      ],
      "execution_count": 74,
      "outputs": []
    },
    {
      "cell_type": "code",
      "metadata": {
        "colab": {
          "base_uri": "https://localhost:8080/",
          "height": 49
        },
        "id": "oykICl09GcEk",
        "outputId": "4adda649-5291-4b0a-eaf0-394f280c243f"
      },
      "source": [
        "df.query('issue_related == True').reset_index(drop=True)"
      ],
      "execution_count": 75,
      "outputs": [
        {
          "output_type": "execute_result",
          "data": {
            "text/html": [
              "<div>\n",
              "<style scoped>\n",
              "    .dataframe tbody tr th:only-of-type {\n",
              "        vertical-align: middle;\n",
              "    }\n",
              "\n",
              "    .dataframe tbody tr th {\n",
              "        vertical-align: top;\n",
              "    }\n",
              "\n",
              "    .dataframe thead th {\n",
              "        text-align: right;\n",
              "    }\n",
              "</style>\n",
              "<table border=\"1\" class=\"dataframe\">\n",
              "  <thead>\n",
              "    <tr style=\"text-align: right;\">\n",
              "      <th></th>\n",
              "      <th>commit_sha</th>\n",
              "      <th>commit_message</th>\n",
              "      <th>issue_related</th>\n",
              "      <th>strict_issue_related</th>\n",
              "      <th>issue_numbers</th>\n",
              "    </tr>\n",
              "  </thead>\n",
              "  <tbody>\n",
              "  </tbody>\n",
              "</table>\n",
              "</div>"
            ],
            "text/plain": [
              "Empty DataFrame\n",
              "Columns: [commit_sha, commit_message, issue_related, strict_issue_related, issue_numbers]\n",
              "Index: []"
            ]
          },
          "metadata": {},
          "execution_count": 75
        }
      ]
    },
    {
      "cell_type": "code",
      "metadata": {
        "colab": {
          "base_uri": "https://localhost:8080/",
          "height": 49
        },
        "id": "oqMAF3HcNTpv",
        "outputId": "d6a5e65c-735d-4670-a0f0-6a556ebebd7c"
      },
      "source": [
        "df.query('strict_issue_related == True').reset_index(drop=True)"
      ],
      "execution_count": 76,
      "outputs": [
        {
          "output_type": "execute_result",
          "data": {
            "text/html": [
              "<div>\n",
              "<style scoped>\n",
              "    .dataframe tbody tr th:only-of-type {\n",
              "        vertical-align: middle;\n",
              "    }\n",
              "\n",
              "    .dataframe tbody tr th {\n",
              "        vertical-align: top;\n",
              "    }\n",
              "\n",
              "    .dataframe thead th {\n",
              "        text-align: right;\n",
              "    }\n",
              "</style>\n",
              "<table border=\"1\" class=\"dataframe\">\n",
              "  <thead>\n",
              "    <tr style=\"text-align: right;\">\n",
              "      <th></th>\n",
              "      <th>commit_sha</th>\n",
              "      <th>commit_message</th>\n",
              "      <th>issue_related</th>\n",
              "      <th>strict_issue_related</th>\n",
              "      <th>issue_numbers</th>\n",
              "    </tr>\n",
              "  </thead>\n",
              "  <tbody>\n",
              "  </tbody>\n",
              "</table>\n",
              "</div>"
            ],
            "text/plain": [
              "Empty DataFrame\n",
              "Columns: [commit_sha, commit_message, issue_related, strict_issue_related, issue_numbers]\n",
              "Index: []"
            ]
          },
          "metadata": {},
          "execution_count": 76
        }
      ]
    },
    {
      "cell_type": "markdown",
      "metadata": {
        "id": "eWd6ITIJX1KJ"
      },
      "source": [
        "## Grabing Linked Issues and Commits for a Pull Request"
      ]
    },
    {
      "cell_type": "code",
      "metadata": {
        "id": "-VhZT1fYYOTb"
      },
      "source": [
        "def find_linked_pr_info(pr_url):\n",
        "    df = pr_df.query(f'pr_url == \"{pr_url}\"')\n",
        "    linked_shas = df.pr_sha.unique()\n",
        "    linked_commits_df = commit_df.query('commit_sha in @linked_shas')\n",
        "    linked_issues = df.linked_issue_url.unique()\n",
        "    linked_issues_df = issue_df.query('issue_url in @linked_issues')\n",
        "    return (linked_commits_df, linked_issues_df)"
      ],
      "execution_count": 77,
      "outputs": []
    },
    {
      "cell_type": "code",
      "metadata": {
        "id": "G-9biQBMYo9L"
      },
      "source": [
        "linked_commits_df, linked_issues_df = find_linked_pr_info('https://github.com/fickas/anl_test_repo/pull/4')"
      ],
      "execution_count": 81,
      "outputs": []
    },
    {
      "cell_type": "code",
      "metadata": {
        "colab": {
          "base_uri": "https://localhost:8080/",
          "height": 397
        },
        "id": "AtJXFnUQQf8_",
        "outputId": "1c4d27d9-c97a-4479-b3b5-aa483624a5e2"
      },
      "source": [
        "linked_commits_df"
      ],
      "execution_count": 82,
      "outputs": [
        {
          "output_type": "execute_result",
          "data": {
            "text/html": [
              "<div>\n",
              "<style scoped>\n",
              "    .dataframe tbody tr th:only-of-type {\n",
              "        vertical-align: middle;\n",
              "    }\n",
              "\n",
              "    .dataframe tbody tr th {\n",
              "        vertical-align: top;\n",
              "    }\n",
              "\n",
              "    .dataframe thead th {\n",
              "        text-align: right;\n",
              "    }\n",
              "</style>\n",
              "<table border=\"1\" class=\"dataframe\">\n",
              "  <thead>\n",
              "    <tr style=\"text-align: right;\">\n",
              "      <th></th>\n",
              "      <th>project_id</th>\n",
              "      <th>project_name</th>\n",
              "      <th>project_last_updated</th>\n",
              "      <th>project_source_url</th>\n",
              "      <th>project_fork_of_id</th>\n",
              "      <th>project_child_of_id</th>\n",
              "      <th>commit_id</th>\n",
              "      <th>commit_sha</th>\n",
              "      <th>commit_datetime</th>\n",
              "      <th>commit_message</th>\n",
              "      <th>commit_branch</th>\n",
              "      <th>author_id</th>\n",
              "      <th>author_username</th>\n",
              "      <th>author_name</th>\n",
              "      <th>author_email</th>\n",
              "      <th>author_url</th>\n",
              "      <th>diff_file_path</th>\n",
              "      <th>diff_language</th>\n",
              "      <th>diff_body</th>\n",
              "    </tr>\n",
              "  </thead>\n",
              "  <tbody>\n",
              "    <tr>\n",
              "      <th>2</th>\n",
              "      <td>30</td>\n",
              "      <td>anl_test_repo</td>\n",
              "      <td>2021-07-30 21:43:15</td>\n",
              "      <td>https://github.com/fickas/anl_test_repo.git</td>\n",
              "      <td>None</td>\n",
              "      <td>None</td>\n",
              "      <td>230198</td>\n",
              "      <td>09d8d646e114b4a68bd2f216b8f036b1c60356f4</td>\n",
              "      <td>2021-07-26 10:11:04</td>\n",
              "      <td>Update test_file.py\\n    \\n    Added comment.</td>\n",
              "      <td>* main\\n  remotes/origin/HEAD -&gt; origin/main\\n...</td>\n",
              "      <td>2247</td>\n",
              "      <td>fickas</td>\n",
              "      <td>None</td>\n",
              "      <td>fickas@cs.uoregon.edu</td>\n",
              "      <td>None</td>\n",
              "      <td>test_file.py</td>\n",
              "      <td>PLACEHOLDER</td>\n",
              "      <td>+#print hello name!</td>\n",
              "    </tr>\n",
              "    <tr>\n",
              "      <th>3</th>\n",
              "      <td>30</td>\n",
              "      <td>anl_test_repo</td>\n",
              "      <td>2021-07-30 21:43:15</td>\n",
              "      <td>https://github.com/fickas/anl_test_repo.git</td>\n",
              "      <td>None</td>\n",
              "      <td>None</td>\n",
              "      <td>230198</td>\n",
              "      <td>09d8d646e114b4a68bd2f216b8f036b1c60356f4</td>\n",
              "      <td>2021-07-26 10:11:04</td>\n",
              "      <td>Update test_file.py\\n    \\n    Added comment.</td>\n",
              "      <td>* main\\n  remotes/origin/HEAD -&gt; origin/main\\n...</td>\n",
              "      <td>2247</td>\n",
              "      <td>fickas</td>\n",
              "      <td>None</td>\n",
              "      <td>fickas@cs.uoregon.edu</td>\n",
              "      <td>None</td>\n",
              "      <td>test_file.py</td>\n",
              "      <td>PLACEHOLDER</td>\n",
              "      <td>+#print hello name!</td>\n",
              "    </tr>\n",
              "    <tr>\n",
              "      <th>4</th>\n",
              "      <td>30</td>\n",
              "      <td>anl_test_repo</td>\n",
              "      <td>2021-07-30 21:43:15</td>\n",
              "      <td>https://github.com/fickas/anl_test_repo.git</td>\n",
              "      <td>None</td>\n",
              "      <td>None</td>\n",
              "      <td>230199</td>\n",
              "      <td>302dd37076dc9be51de80d2aaa3503298415d6ad</td>\n",
              "      <td>2021-07-26 10:10:31</td>\n",
              "      <td>Update test_file.py\\n    \\n    Added bang</td>\n",
              "      <td>* main\\n  remotes/origin/HEAD -&gt; origin/main\\n...</td>\n",
              "      <td>2247</td>\n",
              "      <td>fickas</td>\n",
              "      <td>None</td>\n",
              "      <td>fickas@cs.uoregon.edu</td>\n",
              "      <td>None</td>\n",
              "      <td>test_file.py</td>\n",
              "      <td>PLACEHOLDER</td>\n",
              "      <td>-  return f'Hello {name}\\n+  return f'Hello {n...</td>\n",
              "    </tr>\n",
              "    <tr>\n",
              "      <th>5</th>\n",
              "      <td>30</td>\n",
              "      <td>anl_test_repo</td>\n",
              "      <td>2021-07-30 21:43:15</td>\n",
              "      <td>https://github.com/fickas/anl_test_repo.git</td>\n",
              "      <td>None</td>\n",
              "      <td>None</td>\n",
              "      <td>230199</td>\n",
              "      <td>302dd37076dc9be51de80d2aaa3503298415d6ad</td>\n",
              "      <td>2021-07-26 10:10:31</td>\n",
              "      <td>Update test_file.py\\n    \\n    Added bang</td>\n",
              "      <td>* main\\n  remotes/origin/HEAD -&gt; origin/main\\n...</td>\n",
              "      <td>2247</td>\n",
              "      <td>fickas</td>\n",
              "      <td>None</td>\n",
              "      <td>fickas@cs.uoregon.edu</td>\n",
              "      <td>None</td>\n",
              "      <td>test_file.py</td>\n",
              "      <td>PLACEHOLDER</td>\n",
              "      <td>-  return f'Hello {name}\\n+  return f'Hello {n...</td>\n",
              "    </tr>\n",
              "  </tbody>\n",
              "</table>\n",
              "</div>"
            ],
            "text/plain": [
              "   project_id  ...                                          diff_body\n",
              "2          30  ...                                +#print hello name!\n",
              "3          30  ...                                +#print hello name!\n",
              "4          30  ...  -  return f'Hello {name}\\n+  return f'Hello {n...\n",
              "5          30  ...  -  return f'Hello {name}\\n+  return f'Hello {n...\n",
              "\n",
              "[4 rows x 19 columns]"
            ]
          },
          "metadata": {},
          "execution_count": 82
        }
      ]
    },
    {
      "cell_type": "code",
      "metadata": {
        "colab": {
          "base_uri": "https://localhost:8080/",
          "height": 117
        },
        "id": "_nw2DmzkQiB2",
        "outputId": "2d201a41-db0b-4578-b6fa-1429399c8e8f"
      },
      "source": [
        "linked_issues_df"
      ],
      "execution_count": 83,
      "outputs": [
        {
          "output_type": "execute_result",
          "data": {
            "text/html": [
              "<div>\n",
              "<style scoped>\n",
              "    .dataframe tbody tr th:only-of-type {\n",
              "        vertical-align: middle;\n",
              "    }\n",
              "\n",
              "    .dataframe tbody tr th {\n",
              "        vertical-align: top;\n",
              "    }\n",
              "\n",
              "    .dataframe thead th {\n",
              "        text-align: right;\n",
              "    }\n",
              "</style>\n",
              "<table border=\"1\" class=\"dataframe\">\n",
              "  <thead>\n",
              "    <tr style=\"text-align: right;\">\n",
              "      <th></th>\n",
              "      <th>project_id</th>\n",
              "      <th>project_name</th>\n",
              "      <th>project_last_updated</th>\n",
              "      <th>project_source_url</th>\n",
              "      <th>project_fork_of_id</th>\n",
              "      <th>project_child_of_id</th>\n",
              "      <th>issue_id</th>\n",
              "      <th>issue_title</th>\n",
              "      <th>issue_description</th>\n",
              "      <th>issue_created_at</th>\n",
              "      <th>issue_updated_at</th>\n",
              "      <th>issue_closed_at</th>\n",
              "      <th>issue_locked</th>\n",
              "      <th>issue_state</th>\n",
              "      <th>issue_url</th>\n",
              "      <th>issue_number</th>\n",
              "      <th>issue_author_username</th>\n",
              "      <th>issue_author_email</th>\n",
              "      <th>issue_author_name</th>\n",
              "      <th>issue_author_url</th>\n",
              "      <th>milestone_id</th>\n",
              "      <th>milestone_title</th>\n",
              "      <th>milestone_description</th>\n",
              "      <th>milestone_state</th>\n",
              "      <th>milestone_due_on</th>\n",
              "      <th>milestone_created_at</th>\n",
              "      <th>milestone_updated_at</th>\n",
              "      <th>issue_label_id</th>\n",
              "      <th>issue_label</th>\n",
              "      <th>issue_assignee_id</th>\n",
              "      <th>issue_assignee_name</th>\n",
              "      <th>issue_assignee_url</th>\n",
              "      <th>issue_assignee_username</th>\n",
              "      <th>issue_assignee_email</th>\n",
              "      <th>issue_comment_id</th>\n",
              "      <th>issue_comment_created_at</th>\n",
              "      <th>issue_comment_updated_at</th>\n",
              "      <th>issue_comment_body</th>\n",
              "      <th>issue_comment_author_id</th>\n",
              "      <th>issue_comment_author_name</th>\n",
              "      <th>issue_comment_author_url</th>\n",
              "      <th>issue_comment_author_username</th>\n",
              "      <th>issue_comment_author_email</th>\n",
              "    </tr>\n",
              "  </thead>\n",
              "  <tbody>\n",
              "    <tr>\n",
              "      <th>0</th>\n",
              "      <td>30</td>\n",
              "      <td>anl_test_repo</td>\n",
              "      <td>2021-07-30 21:43:15</td>\n",
              "      <td>https://github.com/fickas/anl_test_repo.git</td>\n",
              "      <td>None</td>\n",
              "      <td>None</td>\n",
              "      <td>3509</td>\n",
              "      <td>Missing bang</td>\n",
              "      <td>Add exclamation point to hello function.</td>\n",
              "      <td>2021-07-26 17:08:57</td>\n",
              "      <td>2021-07-26 17:18:07</td>\n",
              "      <td>2021-07-26 17:18:07</td>\n",
              "      <td>0</td>\n",
              "      <td>CLOSED</td>\n",
              "      <td>https://github.com/fickas/anl_test_repo/issues/1</td>\n",
              "      <td>1</td>\n",
              "      <td>fickas</td>\n",
              "      <td>None</td>\n",
              "      <td>None</td>\n",
              "      <td>https://github.com/fickas</td>\n",
              "      <td>None</td>\n",
              "      <td>None</td>\n",
              "      <td>None</td>\n",
              "      <td>None</td>\n",
              "      <td>None</td>\n",
              "      <td>None</td>\n",
              "      <td>None</td>\n",
              "      <td>45</td>\n",
              "      <td>bug</td>\n",
              "      <td>3729.0</td>\n",
              "      <td>None</td>\n",
              "      <td>https://github.com/fickas</td>\n",
              "      <td>fickas</td>\n",
              "      <td>None</td>\n",
              "      <td>None</td>\n",
              "      <td>None</td>\n",
              "      <td>None</td>\n",
              "      <td>None</td>\n",
              "      <td>None</td>\n",
              "      <td>None</td>\n",
              "      <td>None</td>\n",
              "      <td>None</td>\n",
              "      <td>None</td>\n",
              "    </tr>\n",
              "  </tbody>\n",
              "</table>\n",
              "</div>"
            ],
            "text/plain": [
              "   project_id  ... issue_comment_author_email\n",
              "0          30  ...                       None\n",
              "\n",
              "[1 rows x 43 columns]"
            ]
          },
          "metadata": {},
          "execution_count": 83
        }
      ]
    }
  ]
}