{
  "nbformat": 4,
  "nbformat_minor": 0,
  "metadata": {
    "colab": {
      "name": "DomainChampion_InTheZone.ipynb",
      "provenance": [],
      "collapsed_sections": []
    },
    "kernelspec": {
      "name": "python3",
      "display_name": "Python 3"
    },
    "language_info": {
      "name": "python"
    }
  },
  "cells": [
    {
      "cell_type": "markdown",
      "metadata": {
        "id": "OtPNMWpS-AAY"
      },
      "source": [
        "# Domain Champion\n",
        "#### *Using GitHub's REST API"
      ]
    },
    {
      "cell_type": "markdown",
      "metadata": {
        "id": "ci1TMEci-SYW"
      },
      "source": [
        "### This pattern aims to analyze which developer makes the most contributions for their respective project. We also analyze the proportion of commits they make to their project space as well."
      ]
    },
    {
      "cell_type": "markdown",
      "metadata": {
        "id": "gxCx086GAted"
      },
      "source": [
        "#### Creating a Dataframe of Top Developers"
      ]
    },
    {
      "cell_type": "markdown",
      "metadata": {
        "id": "2ebn37M9-Wxi"
      },
      "source": [
        "We can start off by importing the packages we need and setting up our authentication parameters."
      ]
    },
    {
      "cell_type": "code",
      "metadata": {
        "id": "FDiHEE_z9wHh"
      },
      "source": [
        "import requests\n",
        "import pandas as pd\n",
        "import matplotlib.pyplot as plt\n",
        "\n",
        "username = 'aacosta13'\n",
        "token = '68b7e2252925806ecf998813d212211444599f70'    \n"
      ],
      "execution_count": 54,
      "outputs": []
    },
    {
      "cell_type": "markdown",
      "metadata": {
        "id": "BQZ-XL7p-nP4"
      },
      "source": [
        "Next, we will want to make a dictionary set of the projects we want to analyze. This helps later with our data manipulation. We can also go ahead and set up our \"data\" dictionary, which will help frame a table of the data we collect.\n"
      ]
    },
    {
      "cell_type": "code",
      "metadata": {
        "id": "VDfq947L_DST"
      },
      "source": [
        "project_dict = {\n",
        "    'Moose': 'idaholab/moose',\n",
        "    'Spack': 'spack/spack',\n",
        "    'yt': 'yt-project/yt',\n",
        "    'petsc': 'petsc/petsc',\n",
        "    'E3SM': 'E3SM-Project/E3SM',\n",
        "    'lammps': 'lammps/lammps',\n",
        "    'gromacs': 'gromacs/gromacs',\n",
        "    'OSGConnect': 'OSGConnect/TOREVIEW-tutorial-namd',\n",
        "    'QMCPACK': 'QMCPACK/qmcpack',\n",
        "    'Nek5000': 'Nek5000/Nek5000',\n",
        "    'nwchemgit': 'nwchemgit/nwchem',\n",
        "    'lanl': 'lanl/LATTE',\n",
        "    'CRL': 'gridaphobe/CRL',\n",
        "    'enzo-project': 'enzo-project/enzo-dev'\n",
        "}\n",
        "\n",
        "data = {'Repository Name': [],\n",
        "        'Top Contributor': [],\n",
        "        'Number of Contributions': []}\n",
        "        "
      ],
      "execution_count": 55,
      "outputs": []
    },
    {
      "cell_type": "markdown",
      "metadata": {
        "id": "C3pAl88P_LpT"
      },
      "source": [
        "We will now go through each project from our dictionary and request the JSON info for each repo from the API. Additionally, we can start building our data dictionary up as well to display our findings."
      ]
    },
    {
      "cell_type": "code",
      "metadata": {
        "id": "Ya-Z5qrC_2Y0"
      },
      "source": [
        "for project in project_dict:\n",
        "    url = 'https://api.github.com/repos/%s/contributors' % project_dict[project]\n",
        "\n",
        "    response = requests.get(url, auth=(username, token))\n",
        "    json_response = response.json()\n",
        "\n",
        "    # Following block for creating dataframe\n",
        "    data['Repository Name'].append(project)\n",
        "    data['Top Contributor'].append(json_response[0]['login'])\n",
        "    data['Number of Contributions'].append(json_response[0]['contributions'])\n"
      ],
      "execution_count": 56,
      "outputs": []
    },
    {
      "cell_type": "markdown",
      "metadata": {
        "id": "4ZDtKiG3AYxH"
      },
      "source": [
        "Let's go ahead and place that data into a Pandas dataframe to see what we've found."
      ]
    },
    {
      "cell_type": "code",
      "metadata": {
        "id": "tm1lAndgAgGc",
        "colab": {
          "base_uri": "https://localhost:8080/"
        },
        "outputId": "146461f2-4a8a-48b3-8d13-a7dec5125012"
      },
      "source": [
        "df = pd.DataFrame(data)\n",
        "print(df)"
      ],
      "execution_count": 57,
      "outputs": [
        {
          "output_type": "stream",
          "text": [
            "   Repository Name Top Contributor  Number of Contributions\n",
            "0            Moose        permcody                     6262\n",
            "1            Spack        tgamblin                     2568\n",
            "2               yt     matthewturk                     8560\n",
            "3            petsc      BarrySmith                    20821\n",
            "4             E3SM      jedwards4b                     3747\n",
            "5           lammps        akohlmey                     7340\n",
            "6          gromacs        mabraham                     1813\n",
            "7       OSGConnect          dmbala                       31\n",
            "8          QMCPACK          ye-luo                     5001\n",
            "9          Nek5000          stgeke                      474\n",
            "10       nwchemgit         edoapra                     5770\n",
            "11            lanl          cnegre                      163\n",
            "12             CRL      gridaphobe                      132\n",
            "13    enzo-project     matthewturk                      558\n"
          ],
          "name": "stdout"
        }
      ]
    },
    {
      "cell_type": "markdown",
      "metadata": {
        "id": "0KkVUQXaAmaI"
      },
      "source": [
        "#### Visualizing Top Developer's Proportion of Commits (Histogram)"
      ]
    },
    {
      "cell_type": "markdown",
      "metadata": {
        "id": "EAsn6zNsA-US"
      },
      "source": [
        "Next, we'll want to try and visualize how these developers stand up against their peers for their projects. We can go ahead and make a list of the projects (only needed to more easily display the names on the bar chart).\n",
        "\n",
        "We will also go ahead and introduce a new parameter for our data dictionary to keep track of the total number of contributions for the whole repo. And lastly, two new data structures to help calculate the commit proportions.\n"
      ]
    },
    {
      "cell_type": "code",
      "metadata": {
        "id": "Y-ilaNQHB-mf"
      },
      "source": [
        "project_list = ['Moose', 'Spack', 'yt', 'petsc', 'E3SM', 'lammps', 'gromacs',\n",
        "                'OSGConnect', 'QMCPACK', 'Nek5000', 'nwchemgit', 'lanl', 'CRL', 'enzo-project']\n",
        "\n",
        "data['Contribution Total for Repo'] = []\n",
        "commit_proportion = []\n",
        "commit_proportion_dict = {}\n"
      ],
      "execution_count": 58,
      "outputs": []
    },
    {
      "cell_type": "markdown",
      "metadata": {
        "id": "TB2GORA7Co03"
      },
      "source": [
        "For this step, we will want to go ahead and start gathering the total count of commits per project. We use a helper function here to separate our work; these totals also get appended to our data dictionary to help correlate which project the counts belong to.\n",
        "\n",
        "The list of commit proportions also get placed into a list to help form our bar chart."
      ]
    },
    {
      "cell_type": "code",
      "metadata": {
        "id": "OV9a6-4xCpQD"
      },
      "source": [
        "def count_repo_commit(project, uname, tk):\n",
        "    url = 'https://api.github.com/repos/%s/contributors' % project\n",
        "\n",
        "    response = requests.get(url, auth=(uname, tk))\n",
        "    json_response = response.json()\n",
        "\n",
        "    count = 0\n",
        "    for item in json_response:\n",
        "        count += int(item['contributions'])\n",
        "\n",
        "    return count\n",
        "\n",
        "\n",
        "for project in project_dict:\n",
        "    url = 'https://api.github.com/repos/%s/contributors' % project_dict[project]\n",
        "    commit_count = count_repo_commit(project_dict[project], username, token)\n",
        "\n",
        "    response = requests.get(url, auth=(username, token))\n",
        "    json_response = response.json()\n",
        "\n",
        "    # Following block for creating dataframe\n",
        "    data['Contribution Total for Repo'].append(commit_count)\n",
        "\n",
        "    if commit_count != 0:\n",
        "        commit_proportion.append(int(json_response[0]['contributions']) / commit_count)\n",
        "        commit_proportion_dict[project] = commit_proportion[-1]\n"
      ],
      "execution_count": 59,
      "outputs": []
    },
    {
      "cell_type": "markdown",
      "metadata": {
        "id": "nuzu8PSzEx_L"
      },
      "source": [
        "This is just a minor step; we basically perform the following block of code to sort the values to display them in a descending order for our histogram."
      ]
    },
    {
      "cell_type": "code",
      "metadata": {
        "id": "DaPeeDuGEyf4"
      },
      "source": [
        "# Sorting values to make Bar Chart\n",
        "sorted_project_list = []\n",
        "commit_proportion.sort(reverse=True)\n",
        "for value in commit_proportion:\n",
        "    for current_project, proportion in commit_proportion_dict.items():\n",
        "        if value == proportion:\n",
        "            sorted_project_list.append(current_project)\n"
      ],
      "execution_count": 60,
      "outputs": []
    },
    {
      "cell_type": "markdown",
      "metadata": {
        "id": "-vOjoS4dFUdX"
      },
      "source": [
        "Finally, let's go ahead and make our histogram to see what we have below."
      ]
    },
    {
      "cell_type": "code",
      "metadata": {
        "id": "ij_2fM2-FU8r",
        "colab": {
          "base_uri": "https://localhost:8080/",
          "height": 326
        },
        "outputId": "18481b60-4b80-4de4-aeb9-71f0e2b2f2c1"
      },
      "source": [
        "# Creating chart\n",
        "x_pos = [i for i, _ in enumerate(sorted_project_list)]\n",
        "plt.bar(x_pos, commit_proportion, color='green', align='center')\n",
        "plt.xlabel(\"Project\")\n",
        "plt.ylabel(\"Proportion of Commits\")\n",
        "plt.title(\"Proportion of Commits by Top Developer\")\n",
        "\n",
        "plt.xticks(x_pos, sorted_project_list, size=7, rotation=-45)\n",
        "plt.show()\n"
      ],
      "execution_count": 61,
      "outputs": [
        {
          "output_type": "display_data",
          "data": {
            "image/png": "[encoded data removed]",
            "text/plain": [
              "<Figure size 432x288 with 1 Axes>"
            ]
          },
          "metadata": {
            "tags": []
          }
        }
      ]
    },
    {
      "cell_type": "markdown",
      "metadata": {
        "id": "y4rYh2WoGAvL"
      },
      "source": [
        "One should be wary of interpreting this data, of course. As smaller projects may mislead the amount of work that a developer puts in compared to their peers. For example, OSGConnect's lead project developer may seem to be the only one doing work based off this chart, but further inspection reminds one that the project is led with 31 commits as the lead. Therefore, this project is likely to be small, so the proportions will be more exaggerated.\n"
      ]
    },
    {
      "cell_type": "markdown",
      "metadata": {
        "id": "hEkZukaJcsvn"
      },
      "source": [
        "# In the Zone\n"
      ]
    },
    {
      "cell_type": "markdown",
      "metadata": {
        "id": "bI1mYV2Fczhk"
      },
      "source": [
        "### For this development pattern, we'll want to analyze what time of day it is that the developers for each project tend to make their contributions to the project.\n"
      ]
    },
    {
      "cell_type": "markdown",
      "metadata": {
        "id": "vY2yIHevdP5S"
      },
      "source": [
        "#### Creating a heatmap visualization"
      ]
    },
    {
      "cell_type": "markdown",
      "metadata": {
        "id": "CcPvF-YhdbZd"
      },
      "source": [
        "Our goal for this pattern is to represent all the \"time zones\" that the projects' developers make their contributions by using a heatmap.\n",
        "\n",
        "We'll start off by importing over the datetime package we'll need and establishing the the objects we will use to manipulate the time information.\n"
      ]
    },
    {
      "cell_type": "code",
      "metadata": {
        "id": "sjSu1xM8d-B7"
      },
      "source": [
        "import datetime\n",
        "\n",
        "# Setting up time objects for organizing data\n",
        "temp = datetime.datetime.now()\n",
        "early_morning = temp.replace(hour=5, minute=0, second=0, microsecond=0).time()\n",
        "work_day = temp.replace(hour=9, minute=0, second=0, microsecond=0).time()\n",
        "after_work = temp.replace(hour=17, minute=0, second=0, microsecond=0).time()\n",
        "late_night = temp.replace(hour=23, minute=0, second=0, microsecond=0).time()\n",
        "# Following time period created to account for 0:00 (midnight)\n",
        "after_late_night = temp.replace(hour=0, minute=0, second=0, microsecond=0).time()\n"
      ],
      "execution_count": 62,
      "outputs": []
    },
    {
      "cell_type": "markdown",
      "metadata": {
        "id": "aW_yPtCwek3Y"
      },
      "source": [
        "This next section will be a bit lengthy, as it will be the main method used to cycle through the API's information to compile together the time blocks.\n",
        "\n",
        "The general procedure involves creating a dictionary to section off our time blocks that will be used for creating the heatmap. We also go into the necessary JSON items to grab the time and add it to our data structures. \n",
        "\n",
        "Finally, we are also printing out whenever a project's timezones have been fetched to ensure the process is still continuing since the process takes a while.\n"
      ]
    },
    {
      "cell_type": "code",
      "metadata": {
        "id": "4OpRkHuZezrE",
        "colab": {
          "base_uri": "https://localhost:8080/"
        },
        "outputId": "386d50b5-c3f4-4245-c8b3-e8ab2b68cd2c"
      },
      "source": [
        "# This list is a helper to build the heatmap\n",
        "project_time_totals = []\n",
        "\n",
        "print('Collecting commit time data now...')\n",
        "\n",
        "for project in project_dict:\n",
        "    # Dictionary used to keep track of commit times\n",
        "    commit_time = {\n",
        "        'Early Morning (5am-9am)': 0,\n",
        "        'Work Day (9am-5pm)': 0,\n",
        "        'After Work (5pm-11pm)': 0,\n",
        "        'Late Night (11pm-5am)': 0\n",
        "    }\n",
        "\n",
        "    commit_url = 'https://api.github.com/repos/%s/commits?&per_page=100' % project_dict[project]\n",
        "    commit_response = requests.get(commit_url, auth=(username, token))\n",
        "    commit_json_response = commit_response.json()\n",
        "\n",
        "    item_count = 0\n",
        "    page_no = 1\n",
        "    max_page = False\n",
        "    # Parse through JSON response of API for commits list\n",
        "    while not max_page:\n",
        "        for item in commit_json_response:\n",
        "            # Grab time for commit and place it appropriately in the commit_time dict\n",
        "            date = item['commit']['committer']['date']\n",
        "            time = datetime.datetime.strptime(date[11:-1], '%H:%M:%S').time()\n",
        "\n",
        "            if work_day > time >= early_morning:\n",
        "                commit_time['Early Morning (5am-9am)'] += 1\n",
        "            if after_work > time >= work_day:\n",
        "                commit_time['Work Day (9am-5pm)'] += 1\n",
        "            if late_night > time >= after_work:\n",
        "                commit_time['After Work (5pm-11pm)'] += 1\n",
        "            if early_morning > time >= after_late_night or time >= late_night:\n",
        "                commit_time['Late Night (11pm-5am)'] += 1\n",
        "\n",
        "            item_count += 1\n",
        "\n",
        "        if item_count == 100:\n",
        "            page_no += 1\n",
        "            commit_url += '&page=%s' % str(page_no)\n",
        "            commit_response = requests.get(commit_url, auth=(username, token))\n",
        "            commit_json_response = commit_response.json()\n",
        "            item_count = 0\n",
        "\n",
        "        else:\n",
        "            max_page = True\n",
        "\n",
        "    project_time_totals.append(list(commit_time.values()))\n",
        "    print('%s commit times have been collected.' % project)\n"
      ],
      "execution_count": 63,
      "outputs": [
        {
          "output_type": "stream",
          "text": [
            "Collecting commit time data now...\n",
            "Moose commit times have been collected.\n",
            "Spack commit times have been collected.\n",
            "yt commit times have been collected.\n",
            "petsc commit times have been collected.\n",
            "E3SM commit times have been collected.\n",
            "lammps commit times have been collected.\n",
            "gromacs commit times have been collected.\n",
            "OSGConnect commit times have been collected.\n",
            "QMCPACK commit times have been collected.\n",
            "Nek5000 commit times have been collected.\n",
            "nwchemgit commit times have been collected.\n",
            "lanl commit times have been collected.\n",
            "CRL commit times have been collected.\n",
            "enzo-project commit times have been collected.\n"
          ],
          "name": "stdout"
        }
      ]
    },
    {
      "cell_type": "markdown",
      "metadata": {
        "id": "09wn1PafpIzp"
      },
      "source": [
        "Now, we can finally plot out our heatmap."
      ]
    },
    {
      "cell_type": "code",
      "metadata": {
        "id": "SykC0dPupNSi",
        "colab": {
          "base_uri": "https://localhost:8080/",
          "height": 401
        },
        "outputId": "8aff3cff-8ccb-4aef-d157-98a89612407e"
      },
      "source": [
        "import seaborn as sns\n",
        "\n",
        "# Construct dataframe for heatmap and plot\n",
        "df = pd.DataFrame(data=project_time_totals, index=list(project_dict.keys()), columns=list(commit_time.keys()))\n",
        "ax = sns.heatmap(df, cmap=\"YlGnBu\")\n",
        "plt.show()"
      ],
      "execution_count": 64,
      "outputs": [
        {
          "output_type": "display_data",
          "data": {
            "image/png": "[encoded data removed]",
            "text/plain": [
              "<Figure size 432x288 with 2 Axes>"
            ]
          },
          "metadata": {
            "tags": []
          }
        }
      ]
    },
    {
      "cell_type": "markdown",
      "metadata": {
        "id": "vX2ye_J7pnQH"
      },
      "source": [
        "As can be seen, our heatmap shows that our projects mainly seem to converge into the \"After Work\" time block of 5pm-11pm. This is an interesting outcome, however it is likely believable as it is likely that the developers for these projects must work on the projects after their \"day job\" requirements are finished for the day.\n"
      ]
    },
    {
      "cell_type": "markdown",
      "metadata": {
        "id": "EgX4fxSWq2cj"
      },
      "source": [
        "#### Analyzing each developer's commit times against their project's average time.\n"
      ]
    },
    {
      "cell_type": "markdown",
      "metadata": {
        "id": "E0MschCirWYJ"
      },
      "source": [
        "For this section, we will aim to analyze every developer (for each project) and the frequency of their commits.\n",
        "\n",
        "The general process for this will be to collect the time data for each individual project. We then will use the information from that data set such as the average time block for the project to visualize when the developers are making their commits on average."
      ]
    },
    {
      "cell_type": "code",
      "metadata": {
        "id": "qJIGANz1xuvX",
        "colab": {
          "base_uri": "https://localhost:8080/",
          "height": 346
        },
        "outputId": "0fb29955-223c-4839-fe11-0314c1735bf6"
      },
      "source": [
        "project_time_totals = []\n",
        "projectChoiceDict = {}\n",
        "# Use this dictionary to be able to keep track of each author's contribution\n",
        "authorDict = {}\n",
        "singleCommitAuthor = {}\n",
        "\n",
        "projectChoice = input(\"Enter the name of the project to analyze: \")\n",
        "projectChoiceDict[projectChoice] = project_dict[projectChoice]\n",
        "\n",
        "commit_url = 'https://api.github.com/repos/%s/commits?&per_page=100' % projectChoiceDict[projectChoice]\n",
        "commit_response = requests.get(commit_url, auth=(username, token))\n",
        "commit_json_response = commit_response.json()\n",
        "\n",
        "item_count = 0\n",
        "page_no = 1\n",
        "max_page = False\n",
        "while not max_page:\n",
        "    for item in commit_json_response:\n",
        "        author = item['commit']['author']['name']\n",
        "\n",
        "        if author not in authorDict:\n",
        "            authorDict[author] = []\n",
        "\n",
        "        date = item['commit']['committer']['date']\n",
        "        hour = int(date[11:13])\n",
        "        authorDict[author].append(hour)\n",
        "\n",
        "        item_count += 1\n",
        "\n",
        "    if item_count == 100:\n",
        "        page_no += 1\n",
        "        commit_url += '&page=%s' % str(page_no)\n",
        "        commit_response = requests.get(commit_url, auth=(username, token))\n",
        "        commit_json_response = commit_response.json()\n",
        "        item_count = 0\n",
        "\n",
        "    else:\n",
        "        max_page = True\n",
        "\n",
        "# Create initial plot from data\n",
        "labels, data = authorDict.keys(), authorDict.values()\n",
        "plt.boxplot(data)\n",
        "plt.xticks(range(1, len(labels) + 1), labels)\n",
        "plt.grid()\n",
        "\n",
        "# Build grid to resize\n",
        "plt.gca().margins(x=0)\n",
        "plt.gcf().canvas.draw()\n",
        "tl = plt.gca().get_xticklabels()\n",
        "maxsize = max([t.get_window_extent().width for t in tl])\n",
        "m = 0.2 # inch margin\n",
        "s = maxsize/plt.gcf().dpi*len(labels)+2*m\n",
        "margin = m/plt.gcf().get_size_inches()[0]\n",
        "\n",
        "# Set margins for more even spacing\n",
        "plt.gcf().subplots_adjust(left=margin, right=1.-margin)\n",
        "plt.gcf().set_size_inches(s, plt.gcf().get_size_inches()[1])\n",
        "\n",
        "plt.show()\n"
      ],
      "execution_count": 76,
      "outputs": [
        {
          "output_type": "stream",
          "text": [
            "Enter the name of the project to analyze: OSGConnect\n",
            "{'Mats Rynge': [0], 'Rob Gardner': [16, 3, 3, 3], 'Bala Desinghu': [20, 22, 15, 21, 15, 15, 15, 15, 14, 14, 14, 18], 'Suchandra Thapa': [17, 17], 'David Champion': [19], 'Lincoln Bryant': [19], 'bala': [19, 17, 16, 15, 22, 22], 'Balamurugan Desinghu': [20], 'Bala': [18, 16, 16, 23, 18, 18, 18, 18, 18], 'dmbala': [16, 16], 'Balau': [16, 15]}\n"
          ],
          "name": "stdout"
        },
        {
          "output_type": "stream",
          "text": [
            "/usr/local/lib/python3.7/dist-packages/numpy/core/_asarray.py:83: VisibleDeprecationWarning: Creating an ndarray from ragged nested sequences (which is a list-or-tuple of lists-or-tuples-or ndarrays with different lengths or shapes) is deprecated. If you meant to do this, you must specify 'dtype=object' when creating the ndarray\n",
            "  return array(a, dtype, copy=False, order=order)\n"
          ],
          "name": "stderr"
        },
        {
          "output_type": "display_data",
          "data": {
            "image/png": "[encoded data removed]",
            "text/plain": [
              "<Figure size 1454.67x288 with 1 Axes>"
            ]
          },
          "metadata": {
            "tags": []
          }
        }
      ]
    },
    {
      "cell_type": "code",
      "metadata": {
        "id": "vyqgiIEf_2bP"
      },
      "source": [
        ""
      ],
      "execution_count": 65,
      "outputs": []
    }
  ]
}