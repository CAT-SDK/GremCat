{
 "cells": [
  {
   "cell_type": "markdown",
   "id": "driven-growing",
   "metadata": {},
   "source": [
    "# Domain Champion\n",
    "\n",
    "This analysis is based on the \"Domain Champion\" pattern in the Plurasight [book](https://www.pluralsight.com/content/dam/pluralsight2/landing-pages/offers/flow/pdf/Pluralsight_20Patterns_ebook.pdf). \n",
    "\n",
    "A Domain Champion (DC) is an expert in a particular portion of the code base, and mainly contribute to that portion of the project, while relatively few others contribute there. The positive aspect of that pattern is that the DC can be very productive in the short term. However, because others may now know that domain as well, code reviews are unlikely to result in good feedback. Longer term, this pattern can lead to stagnation, which in turn can lead to attrition. Moreover, if the DC has to leave for any reason, others may not be able to effectively maintain the DC's domain due to lack of expertise. \n",
    "\n",
    "An action item to consider when a project has developers who can be identified as domain champion is to consider encouraging them to contribute to other parts of the project, if appropriate, or to ensure that more people are familiar with that portion of the code.\n",
    "\n",
    "In an HPC context, DC is not necessarily a pattern to be avoided since there can be naturally distinct software components that are within the area of expertise of a contributor, e.g., an interface to another package. Nevertheless, the projects must consider how they will maintain or extend the domain if any single developer departs the project for any reason."
   ]
  },
  {
   "cell_type": "code",
   "execution_count": 6,
   "id": "british-clothing",
   "metadata": {},
   "outputs": [],
   "source": [
    "import sys, os, getpass, warnings\n",
    "warnings.filterwarnings('ignore')\n",
    "from patterns.visualizer import Visualizer"
   ]
  },
  {
   "cell_type": "markdown",
   "id": "resistant-miller",
   "metadata": {},
   "source": [
    "## Load data for project(s)\n",
    "\n",
    "First, we will load some git commits data from the MySQL database. Note that this can take a very long time since we are loading all available data. "
   ]
  },
  {
   "cell_type": "code",
   "execution_count": 7,
   "id": "running-pointer",
   "metadata": {},
   "outputs": [
    {
     "name": "stdout",
     "output_type": "stream",
     "text": [
      "INFO: Loaded local cached copy of ideas-uo data.\n",
      "INFO: Cleaning up data and computing averages...\n",
      "INFO: Done computing averages. 96 file changes (code only)\n"
     ]
    }
   ],
   "source": [
    "vis = Visualizer(project_name='ideas-uo')\n",
    "vis.get_data()"
   ]
  },
  {
   "cell_type": "markdown",
   "id": "rapid-privilege",
   "metadata": {},
   "source": [
    "Next we remove non-code files, but preserve the original full data in the all_commits dataframe. The determination of what is code is made by including common suffixes, as well as checking manually a sampling of ECP projects for the suffixes used for things that can be labeled as code (vs. input simulation data, documentation, or generated files)."
   ]
  },
  {
   "cell_type": "markdown",
   "id": "quality-currency",
   "metadata": {},
   "source": [
    "## Analysis and visualizations\n",
    "\n",
    "Work in progress -- need to transfer from PatternsTest.ipynb"
   ]
  }
 ],
 "metadata": {
  "kernelspec": {
   "display_name": "Python 3",
   "language": "python",
   "name": "python3"
  },
  "language_info": {
   "codemirror_mode": {
    "name": "ipython",
    "version": 3
   },
   "file_extension": ".py",
   "mimetype": "text/x-python",
   "name": "python",
   "nbconvert_exporter": "python",
   "pygments_lexer": "ipython3",
   "version": "3.9.2"
  }
 },
 "nbformat": 4,
 "nbformat_minor": 5
}
