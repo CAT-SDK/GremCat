{
 "cells": [
  {
   "cell_type": "code",
   "execution_count": 1,
   "metadata": {},
   "outputs": [],
   "source": [
    "import sys, os, getpass, warnings\n",
    "warnings.filterwarnings('ignore')\n",
    "#sys.path.append(os.path.abspath(os.path.join(os.path.dirname(os.path.realpath(\"__file__\")), '..', 'src')))  # append parent directory to search path\n",
    "from patterns.visualizer import Visualizer"
   ]
  },
  {
   "cell_type": "markdown",
   "metadata": {},
   "source": [
    "Bring in data from database and annotate it with *locc*, *locc+*, *locc-*, *change-size-cos* = *1-similarity* (**expensive call**)"
   ]
  },
  {
   "cell_type": "code",
   "execution_count": null,
   "metadata": {},
   "outputs": [
    {
     "name": "stdin",
     "output_type": "stream",
     "text": [
      "Database password: ·······\n"
     ]
    }
   ],
   "source": [
    "vis = Visualizer(project_name='petsc', db_pwd=getpass.getpass(prompt='Database password:'))\n",
    "vis.get_data()"
   ]
  },
  {
   "cell_type": "code",
   "execution_count": null,
   "metadata": {},
   "outputs": [],
   "source": [
    "all_commits = vis.commit_data\n",
    "all_commits.head()"
   ]
  },
  {
   "cell_type": "markdown",
   "metadata": {},
   "source": [
    "## Remove all noncode files\n",
    "The determination of what is code is made by including common suffixes, as well as checking manually a sampling of ECP projects for the suffixes used for things that can be labeled as code (vs. input simulation data, documentation, or generated files)."
   ]
  },
  {
   "cell_type": "code",
   "execution_count": null,
   "metadata": {},
   "outputs": [],
   "source": [
    "vis.remove_noncode()\n",
    "print(\"Removed %d noncode files!\" % (all_commits.shape[0] - vis.commit_data.shape[0]))\n",
    "vis.commit_data.head()"
   ]
  },
  {
   "cell_type": "code",
   "execution_count": null,
   "metadata": {},
   "outputs": [],
   "source": [
    "df = vis.plot_overall_project_locc(time_range=None, log=True)"
   ]
  },
  {
   "cell_type": "markdown",
   "metadata": {},
   "source": [
    "to focus on a given year and/or month, set *year* and *month* fields"
   ]
  },
  {
   "cell_type": "code",
   "execution_count": null,
   "metadata": {},
   "outputs": [],
   "source": [
    "vis.set_year(2020)\n",
    "vis.set_month(7)"
   ]
  },
  {
   "cell_type": "markdown",
   "metadata": {},
   "source": [
    "to plot for a given year, provide *time_range='year'*"
   ]
  },
  {
   "cell_type": "code",
   "execution_count": null,
   "metadata": {},
   "outputs": [],
   "source": [
    "df = vis.plot_overall_project_locc(time_range='year',log=True)"
   ]
  },
  {
   "cell_type": "markdown",
   "metadata": {},
   "source": [
    "similarly to plot for a given month, set *time_range='month'*"
   ]
  },
  {
   "cell_type": "code",
   "execution_count": null,
   "metadata": {},
   "outputs": [],
   "source": [
    "vis.plot_overall_project_locc(time_range='month',log=True)"
   ]
  },
  {
   "cell_type": "markdown",
   "metadata": {},
   "source": [
    "### Averages: Total changed lines over time"
   ]
  },
  {
   "cell_type": "code",
   "execution_count": null,
   "metadata": {},
   "outputs": [],
   "source": [
    "vis.plot_total_locc_avg()"
   ]
  },
  {
   "cell_type": "code",
   "execution_count": null,
   "metadata": {},
   "outputs": [],
   "source": [
    "vis.plot_total_locc_moving_avgs()"
   ]
  },
  {
   "cell_type": "code",
   "execution_count": null,
   "metadata": {},
   "outputs": [],
   "source": [
    "vis.plot_total_locc_moving_avgs_M()"
   ]
  },
  {
   "cell_type": "markdown",
   "metadata": {},
   "source": [
    "## Total changed lines over time\n",
    "This reflects changed lines of code as reported in git commit diffs."
   ]
  },
  {
   "cell_type": "code",
   "execution_count": null,
   "metadata": {},
   "outputs": [],
   "source": [
    "df = vis.plot_project_locc_line()"
   ]
  },
  {
   "cell_type": "code",
   "execution_count": null,
   "metadata": {},
   "outputs": [],
   "source": [
    "df2 = vis.plot_project_locc_line(locc=False)"
   ]
  },
  {
   "cell_type": "code",
   "execution_count": null,
   "metadata": {},
   "outputs": [],
   "source": [
    "import seaborn as sns\n",
    "sns.set(font_scale=1.5)\n",
    "with sns.axes_style(\"whitegrid\"):\n",
    "    g = sns.relplot(data=df2, x=\"datetime\", y=\"locc\", size=\"change-size-cos\", hue=\"change-size-cos\", sizes=(50, 500),\n",
    "                    height=6, aspect=1.5, kind=\"scatter\")\n",
    "    g.ax.set_xlabel('Date')\n",
    "    g.ax.set_ylabel('lines added + lines removed')\n",
    "    g.fig.autofmt_xdate()\n",
    "    g.fig.show()\n",
    "df.head()"
   ]
  },
  {
   "cell_type": "markdown",
   "metadata": {},
   "source": [
    "### Using a distance metric to adjust the size of the changes\n",
    "\n",
    "We use the python [textdistance](https://github.com/life4/textdistance) module. The following algorithms have been integrated with the visualizer.\n",
    "```\n",
    "'cos', 'hamming', 'damerau_levenshtein', 'jaccard', 'jaro', 'jaro_winkler', 'bag', 'editex'\n",
    "```"
   ]
  },
  {
   "cell_type": "code",
   "execution_count": null,
   "metadata": {},
   "outputs": [],
   "source": [
    "diff_alg = 'jaccard'\n",
    "df = vis.plot_project_locc_line(diff_alg=diff_alg, log=False)\n",
    "import seaborn as sns\n",
    "sns.set(font_scale=1.5)\n",
    "with sns.axes_style(\"whitegrid\"):\n",
    "    g = sns.relplot(data=df, x=\"datetime\", y=\"locc\", size=\"change-size-%s\" % diff_alg, hue=\"change-size-%s\" % diff_alg, sizes=(50, 500),\n",
    "                    height=6, aspect=1.5, kind=\"scatter\")\n",
    "    g.ax.set_xlabel('Date')\n",
    "    g.ax.set_ylabel('lines added + lines removed')\n",
    "    g.fig.autofmt_xdate()\n",
    "    g.fig.show()\n",
    "df.head()"
   ]
  },
  {
   "cell_type": "markdown",
   "metadata": {},
   "source": [
    "## Change size over time"
   ]
  },
  {
   "cell_type": "code",
   "execution_count": null,
   "metadata": {},
   "outputs": [],
   "source": [
    "df = vis.plot_proj_change_size(time_range=None)"
   ]
  },
  {
   "cell_type": "markdown",
   "metadata": {},
   "source": [
    "Similarly, we can 'zoom' into a specific year"
   ]
  },
  {
   "cell_type": "code",
   "execution_count": null,
   "metadata": {},
   "outputs": [],
   "source": [
    "vis.plot_proj_change_size(time_range='year')"
   ]
  },
  {
   "cell_type": "markdown",
   "metadata": {},
   "source": [
    "Or a specific year range"
   ]
  },
  {
   "cell_type": "code",
   "execution_count": null,
   "metadata": {},
   "outputs": [],
   "source": [
    "vis.select_year_range(2018,2020)\n",
    "vis.plot_proj_change_size(time_range='year-year')"
   ]
  },
  {
   "cell_type": "markdown",
   "metadata": {},
   "source": [
    "we can zoom into a month"
   ]
  },
  {
   "cell_type": "code",
   "execution_count": null,
   "metadata": {},
   "outputs": [],
   "source": [
    "vis.plot_proj_change_size(time_range='month')"
   ]
  },
  {
   "cell_type": "markdown",
   "metadata": {},
   "source": [
    "Or a month range"
   ]
  },
  {
   "cell_type": "code",
   "execution_count": null,
   "metadata": {},
   "outputs": [],
   "source": [
    "vis.select_month_range(5,11)\n",
    "vis.plot_proj_change_size(time_range='month-month')"
   ]
  },
  {
   "cell_type": "markdown",
   "metadata": {},
   "source": [
    "## More patterns\n",
    "Here we look at a combination of the the high-churn and domain champion patterns. Basically we are focusing on the files that have the most changes and restricting the developers by those with the biggest contributions."
   ]
  },
  {
   "cell_type": "code",
   "execution_count": null,
   "metadata": {},
   "outputs": [],
   "source": [
    "N = 10\n",
    "vis.set_max_label_length(30)\n",
    "top_N = vis.plot_top_N_heatmap(N, value_column='locc')\n",
    "top_N.head()"
   ]
  },
  {
   "cell_type": "code",
   "execution_count": null,
   "metadata": {},
   "outputs": [],
   "source": [
    "import seaborn as sns\n",
    "top_N = vis.plot_top_N_heatmap(N, value_column='change-size-cos')\n",
    "top_N.head()"
   ]
  },
  {
   "cell_type": "code",
   "execution_count": null,
   "metadata": {},
   "outputs": [],
   "source": [
    "from patterns.patterns import Patterns\n",
    "df = vis.commit_data"
   ]
  },
  {
   "cell_type": "code",
   "execution_count": null,
   "metadata": {},
   "outputs": [],
   "source": [
    "vis.reset()\n",
    "vis.annotate_metrics(diff_alg='cos')\n",
    "file_dev_locc = vis.make_file_developer_df(value_column='locc')\n",
    "file_dev_diff = vis.make_file_developer_df(value_column='change-size-cos')"
   ]
  },
  {
   "cell_type": "code",
   "execution_count": null,
   "metadata": {},
   "outputs": [],
   "source": [
    "diff_df = file_dev_locc.sub(file_dev_diff, axis=0)\n",
    "print(diff_df.shape)\n",
    "diff_df.head()"
   ]
  },
  {
   "cell_type": "code",
   "execution_count": null,
   "metadata": {},
   "outputs": [],
   "source": [
    "df = vis.commit_data\n",
    "df['locc-cos diff'] = df['locc']-df['change-size-cos']\n",
    "d = vis.plot_top_N_heatmap(top_N = 10, value_column='locc-cos diff', my_df=df)"
   ]
  },
  {
   "cell_type": "code",
   "execution_count": null,
   "metadata": {},
   "outputs": [],
   "source": [
    "#= vis.plot_top_N_heatmap(20,my_df=diff_df)"
   ]
  }
 ],
 "metadata": {
  "kernelspec": {
   "display_name": "Python 3",
   "language": "python",
   "name": "python3"
  },
  "language_info": {
   "codemirror_mode": {
    "name": "ipython",
    "version": 3
   },
   "file_extension": ".py",
   "mimetype": "text/x-python",
   "name": "python",
   "nbconvert_exporter": "python",
   "pygments_lexer": "ipython3",
   "version": "3.9.2"
  }
 },
 "nbformat": 4,
 "nbformat_minor": 4
}
